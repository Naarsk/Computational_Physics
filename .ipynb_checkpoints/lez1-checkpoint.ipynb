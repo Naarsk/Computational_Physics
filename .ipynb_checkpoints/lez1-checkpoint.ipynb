{
 "cells": [
  {
   "cell_type": "markdown",
   "metadata": {},
   "source": [
    "# 1. Overflow and underflow\n",
    "In order to investigate which are (within a factor of 2) the over\n",
    "ow (the\n",
    "greatest number that can be stored) and under\n",
    "ow (the smallest) limits,\n",
    "you can write a code doing something like that (note: this is a pseudocode\n",
    "to have an idea of the algorithm, it is not written in a precise language):\n",
    "under = 1.\n",
    "over = 1.\n",
    "do until.... (or: do N times, with N =...)\n",
    "under = under/2.\n",
    "over = over * 2.\n",
    "write: number of iteration, over, under\n",
    "end of cycle\n",
    "If you want, you can use the available codes (where r=real, s=single\n",
    "precision, d=double precision) which can be compiled with gfortran (or\n",
    "g95, F, fort, or other fortran compilers).\n",
    "(a) Check over\n",
    "ow and under\n",
    "ow for \n",
    "oating point numbers in single\n",
    "precision. (see rs under over.f90)\n",
    "(b) Do the same in double precision. (see rd under over.f90)\n",
    "(c) Do the same for integers (Hint: to be more precise, consider also the\n",
    "numbers obtained by multiplying times 2 and subtracting 1. . . ) (see\n",
    "i min max.f90):\n",
    "(d) (Optional) Some compilers convert \\under\n",
    "ow\" with \\0\"; same are\n",
    "able to handle exceptions. . . If you have other fortran compilers in-\n",
    "stalled, compare what you obtain in (a){(c) using di\u000b",
    "erent compil-\n",
    "ers. (For instance, if you use F instead of g95: use F without/with\n",
    "the option -ieee=full (for exception handling): F -o test.out\n",
    "-ieee=full. What do you get by compiling the code with/without\n",
    "the option and running again?)"
   ]
  },
  {
   "cell_type": "code",
   "execution_count": null,
   "metadata": {},
   "outputs": [],
   "source": [
    "N=1200\n",
    "lst=[]\n",
    "under = 1.\n",
    "over = 1.\n",
    "for i in range(N):\n",
    "    under = under/2.\n",
    "    over = over * 2.\n",
    "    lst.append([i, over, under])\n",
    "    if under==0:\n",
    "        print(i)\n",
    "        break"
   ]
  },
  {
   "cell_type": "code",
   "execution_count": null,
   "metadata": {},
   "outputs": [],
   "source": [
    "import matplotlib.pyplot as plt\n",
    "from numpy import log2\n",
    "\n",
    "\n",
    "clst=lst[900:1200]\n",
    "tlst = list(zip(*clst))\n",
    "plt.title(\"green=log(over), red=-log(under)\")\n",
    "plt.plot(tlst[0], -log2(tlst[2]), \"r\")\n",
    "plt.plot(tlst[0], log2(tlst[1]), \"g\")\n",
    "\n",
    "plt.show()"
   ]
  },
  {
   "cell_type": "markdown",
   "metadata": {},
   "source": [
    "# 2. Machine Precision"
   ]
  },
  {
   "cell_type": "code",
   "execution_count": null,
   "metadata": {},
   "outputs": [],
   "source": [
    "#from numpy import longdouble\n",
    "#eps=longdouble(1)\n",
    "eps = 1.\n",
    "N = 60\n",
    "lst=[]\n",
    "\n",
    "for i in range(N):\n",
    "    eps = eps/2.\n",
    "    uno = 1. + eps\n",
    "    lst.append([i, eps, uno])"
   ]
  },
  {
   "cell_type": "code",
   "execution_count": null,
   "metadata": {},
   "outputs": [],
   "source": [
    "#PRINT LIST\n",
    "x=len(lst)\n",
    "y=3\n",
    "for row in lst:\n",
    "    print('  '.join(s.rjust(len(str(x*y)), ' ') for s in map(str, row)))"
   ]
  },
  {
   "cell_type": "code",
   "execution_count": null,
   "metadata": {},
   "outputs": [],
   "source": [
    "import numpy as np\n",
    "print(np.finfo(float).eps)"
   ]
  },
  {
   "cell_type": "markdown",
   "metadata": {},
   "source": [
    "# 3. Good and bad algorithms, truncation and roundoff"
   ]
  },
  {
   "cell_type": "code",
   "execution_count": null,
   "metadata": {},
   "outputs": [],
   "source": [
    "from numpy import exp\n",
    "N=30\n",
    "x=2\n",
    "pr=1\n",
    "sm=0\n",
    "fat=1\n",
    "lst=[]\n",
    "print(\"x =\", x, \", exp(-x) =\",exp(-x))\n",
    "\n",
    "for i in range(N):\n",
    "    fat=fat*i\n",
    "    if fat==0:\n",
    "        fat=1\n",
    "    sm = sm + pr/fat\n",
    "    pr=pr*(-x)\n",
    "\n",
    "    lst.append([i, sm, abs(sm-exp(-x))/exp(-x)])"
   ]
  },
  {
   "cell_type": "code",
   "execution_count": null,
   "metadata": {},
   "outputs": [],
   "source": [
    "#PRINT LIST\n",
    "x=len(lst)\n",
    "y=3\n",
    "for row in lst:\n",
    "    print('  '.join(s.rjust(len(str(x*y)), ' ') for s in map(str, row)))"
   ]
  },
  {
   "cell_type": "markdown",
   "metadata": {},
   "source": [
    "# 4. Roundoff: derivative\n",
    "\n",
    "Write a code (e.g., see deriv.f90) to calculate the derivative of\n",
    "f (x) = sin(x) in x = 1 with the formulas:\n",
    "– 3-point symmetric: f ′(x) ∼ f1 − f−1\n",
    "2h\n",
    "– 2-point “forward”: f ′(x) ∼ f1 − f0\n",
    "h\n",
    "– 2-point “backwards”: f ′(x) ∼ f0 − f−1\n",
    "h\n",
    "where f0 = f (x), f1 = f (x + h), e f−1 = f (x − h).\n",
    "• Use h = 0.5, 0.2, 0.1, then h/10, h/100, h/1000, h/10000, and reports\n",
    "the results in a table to compare the three algorithms. It’s more\n",
    "convenient to report the error (’calculated−exact’ value, since in this\n",
    "case we know the exact value. . . )\n",
    "• Comment the results. What about roundoff errors?"
   ]
  },
  {
   "cell_type": "code",
   "execution_count": 91,
   "metadata": {},
   "outputs": [],
   "source": [
    "from numpy import sin, cos\n",
    "x=1\n",
    "n=1\n",
    "lst=[]\n",
    "hv=[0.5, 0.2, 0.1]\n",
    "\n",
    "def f(x): return sin(x)\n",
    "\n",
    "for i in range(4):\n",
    "    for h in hv:\n",
    "        df3=(f(x+h)-f(x-h))/(2*h)\n",
    "        df2f=(f(x+h)-f(x))/(h)\n",
    "        df2b=(f(h)-f(x-h))/(2*h)\n",
    "        h=h/10\n",
    "    lst.append([hv[0],abs(df3-cos(x))/(cos(x)),abs(df2f-cos(x))/(cos(x)),abs(df2b-cos(x))/(cos(x))])"
   ]
  },
  {
   "cell_type": "code",
   "execution_count": 92,
   "metadata": {},
   "outputs": [
    {
     "name": "stdout",
     "output_type": "stream",
     "text": [
      "0.5  0.0016658335317180969  0.07947134940273559  7.325102498706171\n",
      "0.5  0.0016658335317180969  0.07947134940273559  7.325102498706171\n",
      "0.5  0.0016658335317180969  0.07947134940273559  7.325102498706171\n",
      "0.5  0.0016658335317180969  0.07947134940273559  7.325102498706171\n"
     ]
    }
   ],
   "source": [
    "#PRINT LIST\n",
    "x=len(lst)\n",
    "y=3\n",
    "for row in lst:\n",
    "    print('  '.join(s.rjust(len(str(x*y)), ' ') for s in map(str, row)))"
   ]
  },
  {
   "cell_type": "code",
   "execution_count": null,
   "metadata": {},
   "outputs": [],
   "source": []
  }
 ],
 "metadata": {
  "kernelspec": {
   "display_name": "Python 3",
   "language": "python",
   "name": "python3"
  },
  "language_info": {
   "codemirror_mode": {
    "name": "ipython",
    "version": 3
   },
   "file_extension": ".py",
   "mimetype": "text/x-python",
   "name": "python",
   "nbconvert_exporter": "python",
   "pygments_lexer": "ipython3",
   "version": "3.8.5"
  }
 },
 "nbformat": 4,
 "nbformat_minor": 4
}
