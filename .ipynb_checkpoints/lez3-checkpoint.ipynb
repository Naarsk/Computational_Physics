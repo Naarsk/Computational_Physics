{
 "cells": [
  {
   "cell_type": "markdown",
   "metadata": {},
   "source": [
    "## 1. Random numbers with non uniform distributions: Inverse Transformation Method"
   ]
  },
  {
   "cell_type": "markdown",
   "metadata": {},
   "source": [
    "(a) With the Inverse Transformation Method we can generate random\n",
    "numbers according to the exponential distribution f(z;l) = l exp(-lz) starting from random numbers with uniform distribution:  if x is the random variable with uniform distribution in [0,1], then z = ln x  is distributed according to exp(-x). Write a code implementing\n",
    "the algorithm."
   ]
  },
  {
   "cell_type": "code",
   "execution_count": 17,
   "metadata": {},
   "outputs": [],
   "source": [
    "import numpy as np\n",
    "def invt(x,l):\n",
    "    return -np.log(x)/l"
   ]
  },
  {
   "cell_type": "code",
   "execution_count": 26,
   "metadata": {},
   "outputs": [],
   "source": [
    "from random import uniform\n",
    "NMAX=10000\n",
    "L=3\n",
    "lst=[]\n",
    "for i in range(NMAX):\n",
    "    x=invt(uniform(0,1),L)\n",
    "    lst.append(x)"
   ]
  },
  {
   "cell_type": "markdown",
   "metadata": {},
   "source": [
    "(b) Check—doing a histogram—that the random variate z generated with\n",
    "that algorithm is actually exponentially distributed."
   ]
  },
  {
   "cell_type": "code",
   "execution_count": 23,
   "metadata": {},
   "outputs": [
    {
     "data": {
      "image/png": "[encoded data removed]",
      "text/plain": [
       "<Figure size 432x288 with 1 Axes>"
      ]
     },
     "metadata": {
      "needs_background": "light"
     },
     "output_type": "display_data"
    }
   ],
   "source": [
    "import matplotlib.pyplot as plt\n",
    "\n",
    "#histogram\n",
    "plt.hist(lst, bins=15, range=(0,5/L), density=True)\n",
    "#function\n",
    "x = np.linspace(0,5/L,100)\n",
    "y = L*np.exp(-L*x)\n",
    "plt.plot(x,y, 'r')\n",
    "#labels\n",
    "plt.xlabel('x')\n",
    "plt.ylabel('p(x;3)')\n",
    "\n",
    "plt.show()\n"
   ]
  },
  {
   "cell_type": "markdown",
   "metadata": {},
   "source": [
    "(c) you can also do the fit of the histogram with an exponential\n",
    "function using the least-square method, with ! as fitting\n",
    "parameter. Check whether you get the expected value of !. (It is\n",
    "convenient to make a semilog plot as suggested above and then make\n",
    "a least-square linear fit; expected values are m=-l, q=ln(l))"
   ]
  },
  {
   "cell_type": "code",
   "execution_count": 7,
   "metadata": {},
   "outputs": [],
   "source": [
    "#least squares fit\n",
    "import numpy as np\n",
    "\n",
    "def lsfit(x,y):\n",
    "    if len(x)== len(y):\n",
    "        n=len(x)\n",
    "    else:\n",
    "        print('error: array lenghts do not match')\n",
    "        \n",
    "    x=np.array(x)\n",
    "    y=np.array(y)\n",
    "    \n",
    "    xm=sum(x)/n\n",
    "    ym=sum(y)/n\n",
    "    \n",
    "    ssxx=sum(x**2)-n*xm**2\n",
    "    #ssyy=sum(y**2)-n*ym**2\n",
    "    ssxy=sum(x*y)-n*xm*ym\n",
    "\n",
    "    m=ssxy/ssxx\n",
    "    q=ym-m*xm\n",
    "    \n",
    "    return(m,q)"
   ]
  },
  {
   "cell_type": "code",
   "execution_count": 27,
   "metadata": {},
   "outputs": [
    {
     "name": "stdout",
     "output_type": "stream",
     "text": [
      "l= 3 \t -m= 2.8356878488837065 \t exp(q)= 2.6654224299746345\n"
     ]
    }
   ],
   "source": [
    "hist, bin_edges = np.histogram(lst, bins=10, density=True)\n",
    "bin_centers = (bin_edges[:-1] + bin_edges[1:]) / 2.\n",
    "\n",
    "#least squares fit\n",
    "m,q=lsfit(bin_centers,np.log(hist))\n",
    "\n",
    "print(\"l=\", L, \"\\t -m=\",-m, \"\\t exp(q)=\", np.exp(q))"
   ]
  },
  {
   "cell_type": "markdown",
   "metadata": {},
   "source": [
    "# 2. Random numbers with non uniform distributions: comparison between different algorithms\n",
    "Suppose you want to generate a random variate x in (-1,1) with distribution\n",
    "p(x) = 1/pi*sqrt(1-x^2).\n",
    "Consider both methods suggested below, do the histograms and check that\n",
    "both methods give correct results."
   ]
  },
  {
   "cell_type": "markdown",
   "metadata": {},
   "source": [
    "(a) From the Inverse Transformation Method:\n",
    "generate a random number U with uniform distribution in [0,1] and\n",
    "consider x = sin pi*(2U-1) !!! Isnt it sin pi*(U-1/2)?"
   ]
  },
  {
   "cell_type": "code",
   "execution_count": 6,
   "metadata": {},
   "outputs": [],
   "source": [
    "import numpy as np\n",
    "def invt(x):\n",
    "    y=np.sin((2*x-1)*np.pi)\n",
    "    return y"
   ]
  },
  {
   "cell_type": "code",
   "execution_count": 7,
   "metadata": {},
   "outputs": [],
   "source": [
    "from random import uniform\n",
    "NMAX=10000\n",
    "lst=[]\n",
    "for i in range(NMAX):\n",
    "    x=invt(uniform(0,1))\n",
    "    lst.append(x)"
   ]
  },
  {
   "cell_type": "code",
   "execution_count": 8,
   "metadata": {},
   "outputs": [
    {
     "name": "stderr",
     "output_type": "stream",
     "text": [
      "<ipython-input-8-de46edf63970>:7: RuntimeWarning: divide by zero encountered in true_divide\n",
      "  y = 1/(np.pi*np.sqrt(1-x**2))\n"
     ]
    },
    {
     "data": {
      "image/png": "[encoded data removed]",
      "text/plain": [
       "<Figure size 432x288 with 1 Axes>"
      ]
     },
     "metadata": {
      "needs_background": "light"
     },
     "output_type": "display_data"
    }
   ],
   "source": [
    "import matplotlib.pyplot as plt\n",
    "\n",
    "#histogram\n",
    "plt.hist(lst, bins=15, range=(-1,1), density=True)\n",
    "#function\n",
    "x = np.linspace(-1,1,100)\n",
    "y = 1/(np.pi*np.sqrt(1-x**2))\n",
    "plt.plot(x,y, 'r')\n",
    "\n",
    "\n",
    "plt.show()"
   ]
  },
  {
   "cell_type": "markdown",
   "metadata": {},
   "source": [
    "# 3. Random numbers with gaussian distribution: Box-Muller algorithm\n",
    "Consider the Box-Muller algorithm to generate a random number gaussian\n",
    "distribution (see for instance boxmuller.f90; the gasdev subroutine used\n",
    "inside is similar to what you can find in “Numerical Recipes”: it gives a\n",
    "gaussian distribution with # = 1 and average μ = 0). Do a histogram of\n",
    "the data generated, calculate numerically from the sequence the average\n",
    "value and the variance, check with the expected results."
   ]
  },
  {
   "cell_type": "code",
   "execution_count": 9,
   "metadata": {},
   "outputs": [],
   "source": [
    "import numpy as np\n",
    "def boxmuller(v1,v2):\n",
    "    r=np.sqrt(-2*np.log(v1))\n",
    "    x=r*np.cos(2*np.pi*v2)\n",
    "    y=r*np.sin(2*np.pi*v2)\n",
    "    return x,y"
   ]
  },
  {
   "cell_type": "code",
   "execution_count": 10,
   "metadata": {},
   "outputs": [],
   "source": [
    "from random import uniform\n",
    "NMAX=10000\n",
    "M=5\n",
    "S=2\n",
    "\n",
    "lst=[]\n",
    "for i in range(NMAX):\n",
    "    x = S * boxmuller(uniform(0,1),uniform(0,1))[0] + M\n",
    "    y = S * boxmuller(uniform(0,1),uniform(0,1))[1] + M\n",
    "    lst.append(x)\n",
    "    lst.append(y)"
   ]
  },
  {
   "cell_type": "code",
   "execution_count": 11,
   "metadata": {},
   "outputs": [
    {
     "data": {
      "image/png": "[encoded data removed]",
      "text/plain": [
       "<Figure size 432x288 with 1 Axes>"
      ]
     },
     "metadata": {
      "needs_background": "light"
     },
     "output_type": "display_data"
    }
   ],
   "source": [
    "import matplotlib.pyplot as plt\n",
    "\n",
    "#histogram\n",
    "plt.hist(lst, bins=27, range=(M-4*S,M+4*S), density=True)\n",
    "#function\n",
    "x = np.linspace(M-4*S,M+4*S,100)\n",
    "y = 1/(S*np.sqrt(2*np.pi))*np.exp(-(x-M)**2/(2*S**2))\n",
    "plt.plot(x,y, 'r')\n",
    "\n",
    "\n",
    "plt.show()"
   ]
  },
  {
   "cell_type": "code",
   "execution_count": 12,
   "metadata": {},
   "outputs": [
    {
     "name": "stdout",
     "output_type": "stream",
     "text": [
      "EXPECTED AVG 5 \t CALCULATED AVG 4.995743311287511\n",
      "EXPECTED DEV 2 \t CALCULATED DEV 2.007918657620381\n"
     ]
    }
   ],
   "source": [
    "sm=0\n",
    "sd=0\n",
    "for x in lst:\n",
    "    sm=sm + x\n",
    "    sd=sd + x**2\n",
    "\n",
    "XM = sm/(2*NMAX)\n",
    "XS = np.sqrt((sd - XM**2*2*NMAX)/(2*NMAX-1))\n",
    "\n",
    "print(\"EXPECTED AVG\", M, \"\\t CALCULATED AVG\", XM)\n",
    "print(\"EXPECTED DEV\", S, \"\\t CALCULATED DEV\", XS)"
   ]
  },
  {
   "cell_type": "markdown",
   "metadata": {},
   "source": [
    "## 4. Simulation of radioactive decay"
   ]
  },
  {
   "cell_type": "markdown",
   "metadata": {},
   "source": [
    "(a) Write a program for a numerical simulation of the radioactive decay,\n",
    "with a decay parameter L in input."
   ]
  },
  {
   "cell_type": "code",
   "execution_count": 13,
   "metadata": {},
   "outputs": [],
   "source": [
    "from random import uniform\n",
    "\n",
    "N0=100   #Starting population\n",
    "L=0.35     #L<1, probability for each nucleus to decay in a given dt\n",
    "\n",
    "lst=[]\n",
    "N=N0\n",
    "\n",
    "while N !=0:\n",
    "    lst.append(N)\n",
    "    for i in range(N):\n",
    "        x=uniform(0,1)\n",
    "        if x <= L:\n",
    "            N=N-1\n",
    "    "
   ]
  },
  {
   "cell_type": "markdown",
   "metadata": {},
   "source": [
    "(b) Use the code with “reasonable” values of the parameters (e.g., N(0)\n",
    "about 1000) and save N(t) in a data file. Check whether N(t) =\n",
    "N(0)exp(-Lt). You could make use of a least-square fit"
   ]
  },
  {
   "cell_type": "code",
   "execution_count": 14,
   "metadata": {
    "scrolled": true
   },
   "outputs": [
    {
     "data": {
      "text/plain": [
       "<function matplotlib.pyplot.show(close=None, block=None)>"
      ]
     },
     "execution_count": 14,
     "metadata": {},
     "output_type": "execute_result"
    },
    {
     "data": {
      "image/png": "[encoded data removed]",
      "text/plain": [
       "<Figure size 432x288 with 1 Axes>"
      ]
     },
     "metadata": {
      "needs_background": "light"
     },
     "output_type": "display_data"
    }
   ],
   "source": [
    "import matplotlib.pyplot as plt\n",
    "import numpy as np\n",
    "#simulation\n",
    "plt.plot(range(len(lst)),lst, 'o')\n",
    "plt.xlabel('time t')\n",
    "plt.ylabel('population N')\n",
    "#function\n",
    "x = np.linspace(0,len(lst)-1,100)\n",
    "y = N0 * np.exp(-L*x)\n",
    "plt.plot(x,y, 'r')\n",
    "plt.show"
   ]
  },
  {
   "cell_type": "code",
   "execution_count": 15,
   "metadata": {},
   "outputs": [
    {
     "data": {
      "text/plain": [
       "<function matplotlib.pyplot.show(close=None, block=None)>"
      ]
     },
     "execution_count": 15,
     "metadata": {},
     "output_type": "execute_result"
    },
    {
     "data": {
      "image/png": "[encoded data removed]",
      "text/plain": [
       "<Figure size 432x288 with 1 Axes>"
      ]
     },
     "metadata": {
      "needs_background": "light"
     },
     "output_type": "display_data"
    }
   ],
   "source": [
    "import matplotlib.pyplot as plt\n",
    "#simulation\n",
    "plt.plot(range(len(lst)),np.log(lst), 'o')\n",
    "plt.xlabel('time t')\n",
    "plt.ylabel('population N')\n",
    "#function\n",
    "x = np.linspace(0,len(lst)-1,100)\n",
    "y = np.log(N0)-L*x\n",
    "plt.plot(x,y, 'r')\n",
    "plt.show"
   ]
  },
  {
   "cell_type": "code",
   "execution_count": 16,
   "metadata": {},
   "outputs": [
    {
     "name": "stdout",
     "output_type": "stream",
     "text": [
      "l= 0.35 \t -m= 0.5017027894434652\n",
      "N0= 100 \t exp(q)= 129.52632427601043\n"
     ]
    }
   ],
   "source": [
    "#least squares fit\n",
    "m,q=lsfit(range(len(lst)),np.log(lst))\n",
    "\n",
    "print(\"l=\", L, \"\\t -m=\",-m)\n",
    "print(\"N0=\", N0, \"\\t exp(q)=\", np.exp(q))"
   ]
  },
  {
   "cell_type": "markdown",
   "metadata": {},
   "source": [
    "I consistently find an higher value for l than expected"
   ]
  },
  {
   "cell_type": "code",
   "execution_count": 28,
   "metadata": {},
   "outputs": [],
   "source": [
    "from random import uniform\n",
    "\n",
    "N0MAX=20000   #Starting population\n",
    "L=0.35     #L<1, probability for each nucleus to decay in a given dt\n",
    "lstm=[]\n",
    "for N in range(100,N0MAX,100):\n",
    "    lst=[]\n",
    "    N=N0\n",
    "\n",
    "    while N !=0:\n",
    "        lst.append(N)\n",
    "        for i in range(N):\n",
    "            x=uniform(0,1)\n",
    "            if x <= L:\n",
    "                N=N-1\n",
    "    m,q=lsfit(range(len(lst)),np.log(lst))\n",
    "    lstm.append(abs(L+m)/L)"
   ]
  },
  {
   "cell_type": "code",
   "execution_count": 29,
   "metadata": {},
   "outputs": [
    {
     "data": {
      "text/plain": [
       "Text(0, 0.5, 'abs(m+L)/L')"
      ]
     },
     "execution_count": 29,
     "metadata": {},
     "output_type": "execute_result"
    },
    {
     "data": {
      "image/png": "[encoded data removed]",
      "text/plain": [
       "<Figure size 432x288 with 1 Axes>"
      ]
     },
     "metadata": {
      "needs_background": "light"
     },
     "output_type": "display_data"
    }
   ],
   "source": [
    "import matplotlib.pyplot as plt\n",
    "import numpy as np\n",
    "#error\n",
    "plt.plot(range(100,N0MAX,100),lstm, 'o')\n",
    "plt.xlabel('N0')\n",
    "plt.ylabel('abs(m+L)/L')"
   ]
  },
  {
   "cell_type": "code",
   "execution_count": null,
   "metadata": {},
   "outputs": [],
   "source": []
  }
 ],
 "metadata": {
  "kernelspec": {
   "display_name": "Python 3",
   "language": "python",
   "name": "python3"
  },
  "language_info": {
   "codemirror_mode": {
    "name": "ipython",
    "version": 3
   },
   "file_extension": ".py",
   "mimetype": "text/x-python",
   "name": "python",
   "nbconvert_exporter": "python",
   "pygments_lexer": "ipython3",
   "version": "3.8.5"
  }
 },
 "nbformat": 4,
 "nbformat_minor": 4
}
