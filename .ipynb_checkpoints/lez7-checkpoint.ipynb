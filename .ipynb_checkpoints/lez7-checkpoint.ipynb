{
 "cells": [
  {
   "cell_type": "markdown",
   "metadata": {},
   "source": [
    "## 1. Random numbers with gaussian distribution:\n",
    "Metropolis algorithm\n",
    "Here we use the Metropolis algorithm to generate points with the distribution\n",
    "P(x) = exp(-x^2/2s^2). We consider s = 1, but the suggestion\n",
    "is to write the code for a generic s."
   ]
  },
  {
   "cell_type": "markdown",
   "metadata": {},
   "source": [
    "(a) Start from x0=0 and choose d=5s to be the maximum displacement\n",
    "for each step. Execute runs with n=100, 1000, 10000, 100000 points,\n",
    "make an histogram of the points generated and compare it with the\n",
    "gaussian distribution. For which n the agreement is satisfactory?"
   ]
  },
  {
   "cell_type": "code",
   "execution_count": 1,
   "metadata": {},
   "outputs": [],
   "source": [
    "import numpy as np\n",
    "\n",
    "def metropolis(p,x0,d,n):\n",
    "    x=[]\n",
    "    xi=x0\n",
    "    for i in range(n):\n",
    "        x.append(xi)\n",
    "        di=np.random.uniform(-d,d)\n",
    "        xt=xi+di\n",
    "        w=p(xt)/p(xi)\n",
    "        if w >= 1:\n",
    "            xi=xt\n",
    "        else:\n",
    "            r=np.random.uniform(0,1)\n",
    "            if w >= r:\n",
    "                xi=xt   \n",
    "    return x"
   ]
  },
  {
   "cell_type": "code",
   "execution_count": 2,
   "metadata": {},
   "outputs": [],
   "source": [
    "def p(x):\n",
    "    s=1\n",
    "    return np.exp(-x**2/(2*s**2))"
   ]
  },
  {
   "cell_type": "code",
   "execution_count": null,
   "metadata": {},
   "outputs": [],
   "source": [
    "import matplotlib.pyplot as plt\n",
    "lst=metropolis(p,0,5,n)\n",
    "nbins=15\n",
    "n=10000\n",
    "\n",
    "#histogram\n",
    "plt.hist(lst, bins=nbins, range=(-4,4), density=True)\n",
    "#function\n",
    "x = np.linspace(-4,4,100)\n",
    "y = p(x)/np.sqrt(2*np.pi)\n",
    "plt.plot(x,y, 'r')\n",
    "\n",
    "\n",
    "plt.show()"
   ]
  },
  {
   "cell_type": "code",
   "execution_count": null,
   "metadata": {},
   "outputs": [],
   "source": [
    "#Tenendo fissato a 16 il numero di bins in cui ho diviso l'intervallo [-4,4], \n",
    "#per n crescenti ho calcolato Sn, la somma in quadratura delle differenze \n",
    "#tra il valore dell'istogramma normalizzato in ogni bin e il valore teorico \n",
    "#della distribuzione (normalizzata) al centro del bin. Ho ripetuto per alcuni valori di n.\n",
    "nbins=16\n",
    "kmax=11\n",
    "n=512\n",
    "S=[]\n",
    "nlst=[]\n",
    "\n",
    "for k in range(kmax):\n",
    "    lst=metropolis(p,0,5,n)\n",
    "    hist, bin_edges = np.histogram(lst, bins=nbins, range=(-4,4), density=True)\n",
    "    bin_centers = (bin_edges[:-1] + bin_edges[1:]) / 2.\n",
    "    y=p(bin_centers)/np.sqrt(2*np.pi)\n",
    "    S.append(sum((hist-y)**2)/nbins)\n",
    "    nlst.append(n)\n",
    "    n=n*2"
   ]
  },
  {
   "cell_type": "code",
   "execution_count": null,
   "metadata": {},
   "outputs": [],
   "source": [
    "import matplotlib.pyplot as plt\n",
    "import numpy as np\n",
    "\n",
    "#loglog plot\n",
    "plt.plot(np.log2(nlst), np.log2(S))\n",
    "\n",
    "plt.xlabel('log n')\n",
    "plt.ylabel('log S')\n",
    "plt.title(str(nbins)+' bins')\n",
    "\n",
    "plt.show()"
   ]
  },
  {
   "cell_type": "code",
   "execution_count": 140,
   "metadata": {},
   "outputs": [],
   "source": [
    "#least squares fit\n",
    "import numpy as np\n",
    "\n",
    "def lsfit(x,y):\n",
    "    if len(x)== len(y):\n",
    "        n=len(x)\n",
    "    else:\n",
    "        print('error: array lenghts do not match')\n",
    "        \n",
    "    x=np.array(x)\n",
    "    y=np.array(y)\n",
    "    \n",
    "    xm=sum(x)/n\n",
    "    ym=sum(y)/n\n",
    "    \n",
    "    ssxx=sum(x**2)-n*xm**2\n",
    "    ssxy=sum(x*y)-n*xm*ym\n",
    "\n",
    "    m=ssxy/ssxx\n",
    "    q=ym-m*xm\n",
    "    \n",
    "    return(m,q)"
   ]
  },
  {
   "cell_type": "code",
   "execution_count": null,
   "metadata": {},
   "outputs": [],
   "source": [
    "m,q=lsfit(np.log(nlst), np.log(S))\n",
    "\n",
    "print('m_unif=', m)"
   ]
  },
  {
   "cell_type": "markdown",
   "metadata": {},
   "source": [
    "(b) Choose n which gives a satisfactory result. For s fixed, change the\n",
    "step size d (i.e., change the ratio d/s). Determine qualitatively the\n",
    "dependence of the acceptance ratio on d/s. Make a plot. How to\n",
    "choose d/s in order to accept from ⇡ 1/3 to ⇡ 1/2 of trial changes?"
   ]
  },
  {
   "cell_type": "code",
   "execution_count": null,
   "metadata": {},
   "outputs": [],
   "source": [
    "def na_metropolis(p,x0,d,n):\n",
    "    na=0\n",
    "    xi=x0\n",
    "    for i in range(n):\n",
    "        di=np.random.uniform(-d,d)\n",
    "        xt=xi+di\n",
    "        w=p(xt)/p(xi)\n",
    "        if w >= 1:\n",
    "            xi=xt\n",
    "        else:\n",
    "            r=np.random.uniform(0,1)\n",
    "            if w >= r:\n",
    "                xi=xt   \n",
    "                na=na+1\n",
    "    return na"
   ]
  },
  {
   "cell_type": "code",
   "execution_count": null,
   "metadata": {},
   "outputs": [],
   "source": [
    "n=10000\n",
    "dvalues=[10,5,2,1,0.5,0.2,0.1, 0.01]\n",
    "lst=[]\n",
    "\n",
    "for d in dvalues:\n",
    "    lst.append(na_metropolis(p,0,d,n)/n)"
   ]
  },
  {
   "cell_type": "code",
   "execution_count": null,
   "metadata": {},
   "outputs": [],
   "source": [
    "print(lst)"
   ]
  },
  {
   "cell_type": "code",
   "execution_count": null,
   "metadata": {},
   "outputs": [],
   "source": [
    "import matplotlib.pyplot as plt\n",
    "import numpy as np\n",
    "\n",
    "#loglog plot\n",
    "plt.plot(dvalues,lst)\n",
    "\n",
    "plt.xlabel('d/s')\n",
    "plt.ylabel('n_a/n')\n",
    "plt.title('acceptance ratio')\n",
    "\n",
    "plt.show()"
   ]
  },
  {
   "cell_type": "markdown",
   "metadata": {},
   "source": [
    "(c) By varying n in a more refined way (e.g. from 100 to 10000 with steps\n",
    "of 100), compare the first moments of the distribution obtained numerically\n",
    "with the exact ones analytically calculated with the Gaussian.\n",
    "In particular, focus on the second moment and make a plot of\n",
    "the di↵erence “exact variance - numerical variance” as a function of\n",
    "n."
   ]
  },
  {
   "cell_type": "code",
   "execution_count": null,
   "metadata": {},
   "outputs": [],
   "source": [
    "import numpy as np\n",
    "nmax=2*10**4\n",
    "D=[]\n",
    "nlst=[]\n",
    "\n",
    "for n in range(100,nmax,100):\n",
    "    x=metropolis(p,0,5,n)\n",
    "    s=np.var(x,ddof=1)        #unbiased estimator\n",
    "    D.append(abs(s-1))\n",
    "    nlst.append(n)"
   ]
  },
  {
   "cell_type": "code",
   "execution_count": null,
   "metadata": {},
   "outputs": [],
   "source": [
    "import matplotlib.pyplot as plt\n",
    "import numpy as np\n",
    "\n",
    "#loglog plot\n",
    "plt.plot(nlst,D)\n",
    "\n",
    "plt.xlabel('n')\n",
    "plt.ylabel('Dn')\n",
    "plt.title('|exact variance - numerical variance|')\n",
    "\n",
    "plt.show()"
   ]
  },
  {
   "cell_type": "markdown",
   "metadata": {},
   "source": [
    "(d) For fixed s = 1 and d=5s, determine qualitatively the equilibration\n",
    "time (i.e. the number of steps necessary to equilibrate the system);\n",
    "a possible criterion is that the numerical estimate of <x^2>-< x>^2 is close enough to s^2, say within 5%."
   ]
  },
  {
   "cell_type": "markdown",
   "metadata": {},
   "source": [
    "## 2. Sampling physical quantities: direct sampling and Metropolis sampling\n",
    "Consider the quantum harmonic oscillator and its ground state. The exact\n",
    "solution and the expectation values of kinetic, potential and total energy\n",
    "are know analitically, and can be used to compare the numerical results."
   ]
  },
  {
   "cell_type": "markdown",
   "metadata": {},
   "source": [
    "(a) Direct sampling. Estimate kinetic energy, potential energy, first moments\n",
    "<x^i> of the wave function f(x) = Ae^(-x^2/4s^2) with a samplemean\n",
    "Monte Carlo calculation of the integral of the expectation values\n",
    "using a sequence of random points directly obtained for instance\n",
    "from the gasdev subroutine (see Lecture III).                                    Study the numerical accuracy and the convergence of the previous quantities as a function of the number of sampling points (since variance and kinetic, potential and total energy depend on the second moment <x^2>, you should find the same behavior for all these quantities, a part from a scaling factor)."
   ]
  },
  {
   "cell_type": "code",
   "execution_count": 18,
   "metadata": {},
   "outputs": [],
   "source": [
    "import numpy as np\n",
    "def boxmuller(m,s):\n",
    "    v1,v2=np.random.uniform(0,1,2)\n",
    "    r=np.sqrt(-2*np.log(v1))\n",
    "    x=r*np.cos(2*np.pi*v2)*s+m\n",
    "    y=r*np.sin(2*np.pi*v2)*s+m\n",
    "    return x,y"
   ]
  },
  {
   "cell_type": "code",
   "execution_count": null,
   "metadata": {},
   "outputs": [],
   "source": [
    "import numpy as np\n",
    "n=10000\n",
    "s=1\n",
    "x=0\n",
    "x2=0\n",
    "\n",
    "for i in range(int(n/2)):\n",
    "    a,b=boxmuller(0,s)\n",
    "    x=x+a+b\n",
    "    x2=x2+a**2+b**2\n",
    "    \n",
    "x=x/n\n",
    "x2=x2/n\n",
    "\n",
    "Epot=x2/2\n",
    "Ekin=1/(4*s**2)-x2/(8*s**4)\n",
    "print(Epot,Ekin)"
   ]
  },
  {
   "cell_type": "markdown",
   "metadata": {},
   "source": [
    "(c) Metropolis sampling. Repeat the sampling using the Metropolis algorithm.\n",
    "See for instance the code metropolis sampling.f90. Evaluate\n",
    "the numerical accuracy and convergence of the more relevant\n",
    "quantities as a function of the number of sampling points. (see the\n",
    "comment in (a))"
   ]
  },
  {
   "cell_type": "code",
   "execution_count": null,
   "metadata": {},
   "outputs": [],
   "source": [
    "n=10000\n",
    "\n",
    "def p(x):\n",
    "    s=1\n",
    "    return np.exp(-x**2/(2*s**2))\n",
    "\n",
    "x=metropolis(p,0,5,n)\n",
    "Epot=sum(np.array(x)**2)/(2*n)\n",
    "Ekin=(2*s**2-sum(np.array(x)**2)/n)/(8*s**4)\n",
    "print(Epot,Ekin)"
   ]
  },
  {
   "cell_type": "code",
   "execution_count": null,
   "metadata": {},
   "outputs": [],
   "source": [
    "s=1\n",
    "kmax=11\n",
    "n=2**9\n",
    "Em=[]\n",
    "Ed=[]\n",
    "nlst=[]\n",
    "Etot=s**2/2+1/(8*s**2)\n",
    "for k in range(kmax):\n",
    "    #direct\n",
    "    for i in range(int(n/2)):\n",
    "        a,b=boxmuller(0,s)\n",
    "        x2=x2+a**2+b**2\n",
    "    x2=x2/n\n",
    "    Etotd=x2/2+1/(4*s**2)-x2/(8*s**4)\n",
    "    Ed.append(abs(Etotd-Etot))\n",
    "    #metropolis\n",
    "    x=metropolis(p,0,5,n)\n",
    "    Etotm=sum(np.array(x)**2)/(2*n)+(2*s**2-sum(np.array(x)**2)/n)/(8*s**4)\n",
    "    Em.append(abs(Etotm-Etot))\n",
    "    n=n*2\n",
    "    nlst.append(n)"
   ]
  },
  {
   "cell_type": "code",
   "execution_count": null,
   "metadata": {},
   "outputs": [],
   "source": [
    "import matplotlib.pyplot as plt\n",
    "import numpy as np\n",
    "\n",
    "#loglog plot\n",
    "plt.plot(np.log2(nlst),np.log2(Ed), label='direct')\n",
    "plt.plot(np.log2(nlst),np.log2(Em), label='metropolis')\n",
    "\n",
    "plt.xlabel('log n')\n",
    "plt.ylabel('log DE')\n",
    "plt.title('Error on total energy')\n",
    "plt.legend()\n",
    "plt.show()"
   ]
  },
  {
   "cell_type": "code",
   "execution_count": null,
   "metadata": {},
   "outputs": [],
   "source": [
    "md,qd=lsfit(np.log2(nlst),np.log2(Ed))\n",
    "mm,qm=lsfit(np.log2(nlst),np.log2(Em))"
   ]
  },
  {
   "cell_type": "code",
   "execution_count": null,
   "metadata": {},
   "outputs": [],
   "source": [
    "print(md,mm)"
   ]
  },
  {
   "cell_type": "code",
   "execution_count": null,
   "metadata": {},
   "outputs": [],
   "source": [
    "print(md,mm)"
   ]
  },
  {
   "cell_type": "code",
   "execution_count": null,
   "metadata": {},
   "outputs": [],
   "source": [
    "print(md,mm)"
   ]
  },
  {
   "cell_type": "markdown",
   "metadata": {},
   "source": [
    "## 3. Correlations"
   ]
  },
  {
   "cell_type": "markdown",
   "metadata": {},
   "source": [
    "(a) Calculate the autocorrelation function C(j) = hxixi+ji hx2i\n",
    "i \n",
    "for a\n",
    "sequence or random numbers distributed according to a gaussian using\n",
    "the Metropolis method, testing di↵erent values of \"/!. Comment\n",
    "the results."
   ]
  },
  {
   "cell_type": "code",
   "execution_count": 14,
   "metadata": {},
   "outputs": [],
   "source": [
    "import numpy as np\n",
    "def autocorrelation(x):\n",
    "    n=len(x)\n",
    "    C=np.empty(n)\n",
    "    for j in range(n):\n",
    "        cx=0\n",
    "        for i in range(0,n):\n",
    "            cx=cx+x[i]*x[(i+j)%n]\n",
    "        cx=cx/n\n",
    "        C[j]=(cx-np.mean(x)**2)/(np.var(x)-np.mean(x)**2)\n",
    "    return C\n"
   ]
  },
  {
   "cell_type": "code",
   "execution_count": 15,
   "metadata": {},
   "outputs": [],
   "source": [
    "n=100\n",
    "dvalues=[5,2,1,0.5,0.2,0.1]\n",
    "lst=[]\n",
    "\n",
    "for d in dvalues:\n",
    "    x=metropolis(p,0,d,n)\n",
    "    C=autocorrelation(x)\n",
    "    lst.append(C)"
   ]
  },
  {
   "cell_type": "code",
   "execution_count": 16,
   "metadata": {},
   "outputs": [
    {
     "data": {
      "image/png": "[encoded data removed]",
      "text/plain": [
       "<Figure size 432x288 with 1 Axes>"
      ]
     },
     "metadata": {
      "needs_background": "light"
     },
     "output_type": "display_data"
    }
   ],
   "source": [
    "import matplotlib.pyplot as plt\n",
    "import numpy as np\n",
    "\n",
    "#loglog plot\n",
    "for j in range(len(dvalues)):\n",
    "    plt.plot(range(100),lst[j][0:100],'p', label='d/s=' + str(dvalues[j]))\n",
    "\n",
    "plt.xlabel('n')\n",
    "plt.ylabel('C')\n",
    "plt.title('Autocorrelation function')\n",
    "plt.legend()\n",
    "plt.show()"
   ]
  },
  {
   "cell_type": "code",
   "execution_count": 23,
   "metadata": {},
   "outputs": [],
   "source": [
    "n=100\n",
    "d=1\n",
    "s=1\n",
    "x=[]\n",
    "#direct\n",
    "for i in range(int(n/2)):\n",
    "    a,b=boxmuller(0,s)\n",
    "    x.append(a)\n",
    "    x.append(b)\n",
    "Cd=autocorrelation(x)\n",
    "#metropolis\n",
    "x=metropolis(p,0,5,n)\n",
    "Cm=autocorrelation(x)\n"
   ]
  },
  {
   "cell_type": "code",
   "execution_count": 24,
   "metadata": {},
   "outputs": [
    {
     "data": {
      "image/png": "[encoded data removed]",
      "text/plain": [
       "<Figure size 432x288 with 1 Axes>"
      ]
     },
     "metadata": {
      "needs_background": "light"
     },
     "output_type": "display_data"
    }
   ],
   "source": [
    "import matplotlib.pyplot as plt\n",
    "import numpy as np\n",
    "\n",
    "#loglog plot\n",
    "plt.plot(range(n),Cd,'p', label='direct')\n",
    "plt.plot(range(n),Cm,'p', label='metropolis')\n",
    "\n",
    "\n",
    "plt.xlabel('n')\n",
    "plt.ylabel('C')\n",
    "plt.title('Autocorrelation function')\n",
    "plt.legend()\n",
    "plt.show()"
   ]
  },
  {
   "cell_type": "markdown",
   "metadata": {},
   "source": [
    "## 4. Verification of the Boltzmann distribution\n",
    "We can verify directly that the Metropolis algorithm yields the Boltzmann\n",
    "distribution. We consider a single classical particle in one dimension\n",
    "in equilibrium with a heath bath (canonical ensemble). We fix therefore\n",
    "the temperature T, which labels a macrostate. The energy E can vary\n",
    "according to the particular microstate (in this particular case, it is enough\n",
    "to label a microstate, a part from the sign of the velocity)."
   ]
  },
  {
   "cell_type": "markdown",
   "metadata": {},
   "source": [
    "(a) Write a code (see e.g. boltzmann metropolis.f90) to determine\n",
    "the form of the probability distribution P(E) that is generated by\n",
    "the Metropolis algorithm. Let for instance T=1, the initial velocity\n",
    "vinitial=0, the number of Monte Carlo steps nmcs=1000, and the\n",
    "maximum variation of the velocity dvmax=2. Calculate the mean\n",
    "energy, the mean velocity, and the probability density P(E)."
   ]
  },
  {
   "cell_type": "code",
   "execution_count": 41,
   "metadata": {},
   "outputs": [],
   "source": [
    "import numpy as np\n",
    "\n",
    "def metropolis_bz(b,n):\n",
    "    v=0              #initial microstate\n",
    "    E=0           \n",
    "    \n",
    "    na=0\n",
    "    vlst=[]\n",
    "    Elst=[]\n",
    "    dvmax=10\n",
    "    \n",
    "    for i in range(n):\n",
    "        vlst.append(v)\n",
    "        Elst.append(E)\n",
    "        \n",
    "        dv=dvmax*np.random.uniform(-1,1)       #random variation\n",
    "        vt=v+dv\n",
    "        de= 0.5*(vt**2 - v**2)\n",
    "        if de <= 0:                            #accept\n",
    "            v=vt\n",
    "            na=na+1\n",
    "            E=E+de\n",
    "        else:\n",
    "            rnd=np.random.uniform(0,1)\n",
    "            if np.exp(-b*de)>=rnd:             #accept\n",
    "                v=vt\n",
    "                na=na+1\n",
    "                E=E+de   \n",
    "    return vlst, Elst, na"
   ]
  },
  {
   "cell_type": "code",
   "execution_count": 43,
   "metadata": {},
   "outputs": [],
   "source": [
    "n=10000\n",
    "b=10\n",
    "vlst, Elst, na = metropolis_bz(b,n)"
   ]
  },
  {
   "cell_type": "code",
   "execution_count": 44,
   "metadata": {},
   "outputs": [
    {
     "data": {
      "image/png": "[encoded data removed]",
      "text/plain": [
       "<Figure size 432x288 with 1 Axes>"
      ]
     },
     "metadata": {
      "needs_background": "light"
     },
     "output_type": "display_data"
    }
   ],
   "source": [
    "import matplotlib.pyplot as plt\n",
    "import numpy as np\n",
    "\n",
    "A = 4/np.sqrt(b)\n",
    "\n",
    "#histogram\n",
    "plt.hist(vlst,range=(-A,A), bins=35, density=True)\n",
    "\n",
    "x=np.linspace(-A,A,100)\n",
    "y=np.sqrt(b/(np.pi*2))*np.exp(-b*x**2/2)\n",
    "plt.plot(x,y)\n",
    "\n",
    "plt.xlabel('v')\n",
    "plt.ylabel('f(v)')\n",
    "plt.title('1D - beta=1')\n",
    "plt.show()"
   ]
  },
  {
   "cell_type": "code",
   "execution_count": 31,
   "metadata": {},
   "outputs": [
    {
     "name": "stderr",
     "output_type": "stream",
     "text": [
      "<ipython-input-31-26f5c7ece04a>:12: RuntimeWarning: divide by zero encountered in true_divide\n",
      "  y=np.sqrt(b/(np.pi*x))*np.exp(-b*x)\n",
      "No handles with labels found to put in legend.\n"
     ]
    },
    {
     "data": {
      "image/png": "[encoded data removed]",
      "text/plain": [
       "<Figure size 432x288 with 1 Axes>"
      ]
     },
     "metadata": {
      "needs_background": "light"
     },
     "output_type": "display_data"
    }
   ],
   "source": [
    "import matplotlib.pyplot as plt\n",
    "import numpy as np\n",
    "#from matplotlib import rc\n",
    "#rc('text', usetex=True) \n",
    "\n",
    "\n",
    "A=4/b\n",
    "#histogram\n",
    "plt.hist(Elst, range=(0,A), bins=35, density=True)\n",
    "\n",
    "x=np.linspace(0,A,100)\n",
    "y=np.sqrt(b/(np.pi*x))*np.exp(-b*x)\n",
    "#y=1.78*np.sqrt(1/(x+0.5))*np.exp(-(x+0.5))\n",
    "\n",
    "plt.plot(x,y)\n",
    "#plt.plot(x,y, label = r'$\\frac{{1.78}\\,  e^{-(E+0.5)}}{\\sqrt{E+0.5}}  $')\n",
    "\n",
    "plt.xlabel('E')\n",
    "plt.ylabel('P(E)')\n",
    "plt.title('1D - beta=1')\n",
    "plt.legend()\n",
    "plt.show()"
   ]
  },
  {
   "cell_type": "code",
   "execution_count": 27,
   "metadata": {},
   "outputs": [
    {
     "ename": "NameError",
     "evalue": "name 'lsfit' is not defined",
     "output_type": "error",
     "traceback": [
      "\u001b[1;31m---------------------------------------------------------------------------\u001b[0m",
      "\u001b[1;31mNameError\u001b[0m                                 Traceback (most recent call last)",
      "\u001b[1;32m<ipython-input-27-bbe8a51ead8e>\u001b[0m in \u001b[0;36m<module>\u001b[1;34m\u001b[0m\n\u001b[0;32m      8\u001b[0m \u001b[0mplt\u001b[0m\u001b[1;33m.\u001b[0m\u001b[0mplot\u001b[0m\u001b[1;33m(\u001b[0m\u001b[0mx\u001b[0m\u001b[1;33m,\u001b[0m\u001b[0my\u001b[0m\u001b[1;33m,\u001b[0m \u001b[0mlabel\u001b[0m\u001b[1;33m=\u001b[0m\u001b[1;34m'log hist'\u001b[0m\u001b[1;33m)\u001b[0m\u001b[1;33m\u001b[0m\u001b[1;33m\u001b[0m\u001b[0m\n\u001b[0;32m      9\u001b[0m \u001b[1;33m\u001b[0m\u001b[0m\n\u001b[1;32m---> 10\u001b[1;33m \u001b[0mm\u001b[0m\u001b[1;33m,\u001b[0m\u001b[0mq\u001b[0m\u001b[1;33m=\u001b[0m\u001b[0mlsfit\u001b[0m\u001b[1;33m(\u001b[0m\u001b[0mx\u001b[0m\u001b[1;33m[\u001b[0m\u001b[1;36m5\u001b[0m\u001b[1;33m:\u001b[0m\u001b[1;36m30\u001b[0m\u001b[1;33m]\u001b[0m\u001b[1;33m,\u001b[0m\u001b[0my\u001b[0m\u001b[1;33m[\u001b[0m\u001b[1;36m5\u001b[0m\u001b[1;33m:\u001b[0m\u001b[1;36m30\u001b[0m\u001b[1;33m]\u001b[0m\u001b[1;33m)\u001b[0m\u001b[1;33m\u001b[0m\u001b[1;33m\u001b[0m\u001b[0m\n\u001b[0m\u001b[0;32m     11\u001b[0m \u001b[0mprint\u001b[0m\u001b[1;33m(\u001b[0m\u001b[1;34m'm='\u001b[0m\u001b[1;33m,\u001b[0m \u001b[0mm\u001b[0m\u001b[1;33m)\u001b[0m\u001b[1;33m\u001b[0m\u001b[1;33m\u001b[0m\u001b[0m\n\u001b[0;32m     12\u001b[0m \u001b[0mxl\u001b[0m\u001b[1;33m=\u001b[0m\u001b[0mnp\u001b[0m\u001b[1;33m.\u001b[0m\u001b[0mlinspace\u001b[0m\u001b[1;33m(\u001b[0m\u001b[1;36m0\u001b[0m\u001b[1;33m,\u001b[0m\u001b[1;36m4\u001b[0m\u001b[1;33m,\u001b[0m\u001b[1;36m5\u001b[0m\u001b[1;33m)\u001b[0m\u001b[1;33m\u001b[0m\u001b[1;33m\u001b[0m\u001b[0m\n",
      "\u001b[1;31mNameError\u001b[0m: name 'lsfit' is not defined"
     ]
    },
    {
     "data": {
      "image/png": "[encoded data removed]",
      "text/plain": [
       "<Figure size 432x288 with 1 Axes>"
      ]
     },
     "metadata": {
      "needs_background": "light"
     },
     "output_type": "display_data"
    }
   ],
   "source": [
    "import matplotlib.pyplot as plt\n",
    "import numpy as np\n",
    "A=4/b\n",
    "#histogram\n",
    "hist, bin_edges =np.histogram(Elst, range=(0,A), bins=35, density=True)\n",
    "x=(bin_edges[1:]+bin_edges[:-1])/2\n",
    "y=np.log(hist)\n",
    "plt.plot(x,y, label='log hist')\n",
    "\n",
    "m,q=lsfit(x[5:30],y[5:30])\n",
    "print('m=', m)\n",
    "xl=np.linspace(0,4,5)\n",
    "yl=m*xl+q\n",
    "plt.plot(xl,yl,label=str(np.round(m,2))+'E' +str(np.round(q,2)))\n",
    "\n",
    "plt.xlabel('E')\n",
    "plt.ylabel('log P(E)')\n",
    "\n",
    "plt.legend()\n",
    "plt.show()\n"
   ]
  },
  {
   "cell_type": "code",
   "execution_count": 169,
   "metadata": {},
   "outputs": [
    {
     "name": "stdout",
     "output_type": "stream",
     "text": [
      "0.004340811506568122 0.4779615750214762\n"
     ]
    }
   ],
   "source": [
    "vm=np.mean(vlst)\n",
    "ve=np.mean(Elst)\n",
    "print(vm,ve)"
   ]
  },
  {
   "cell_type": "markdown",
   "metadata": {},
   "source": [
    "(e) Modify the program to simulate an ideal gas of N particles in one\n",
    "dimension. [Hint: modify the subroutine Metropolis inserting a loop\n",
    "over the particles] Consider for instance N=20, T=100, nmcs=200.\n",
    "Assume all particles to have the same initial velocity vinitial=10.\n",
    "Determine the value of dvmax so that the acceptance ratio is about\n",
    "50% ? What are the mean energy hEi (i.e., total energy of the system\n",
    "hEtoti divided by the number of particles) and the mean velocity?\n",
    "[the symbol hi indicates temporal(statistical) averages]"
   ]
  },
  {
   "cell_type": "code",
   "execution_count": 71,
   "metadata": {},
   "outputs": [],
   "source": [
    "import numpy as np\n",
    "\n",
    "def metropolis_bz_N(b,n,N):\n",
    "    \n",
    "    v=np.zeros(N)             #initial microstate\n",
    "    E=0           \n",
    "    \n",
    "    na=0\n",
    "    varr=np.empty((N,n))\n",
    "    Elst=[]\n",
    "    dvmax=0.15\n",
    "    \n",
    "    for i in range(n):\n",
    "        varr[:,i]=v\n",
    "        Elst.append(E)\n",
    "        \n",
    "        dv=dvmax*np.random.uniform(-1,1,N)       #random variation\n",
    "        vt=v+dv\n",
    "        de= 0.5*sum(vt**2 - v**2)\n",
    "        if de <= 0:                            #accept\n",
    "            v=vt\n",
    "            na=na+1\n",
    "            E=E+de\n",
    "        else:\n",
    "            rnd=np.random.uniform(0,1)\n",
    "            if np.exp(-b*de)>=rnd:             #accept\n",
    "                v=vt\n",
    "                na=na+1\n",
    "                E=E+de   \n",
    "    return varr, Elst, na"
   ]
  },
  {
   "cell_type": "code",
   "execution_count": 75,
   "metadata": {},
   "outputs": [
    {
     "name": "stdout",
     "output_type": "stream",
     "text": [
      "0.5452\n"
     ]
    }
   ],
   "source": [
    "n=10000\n",
    "N=200\n",
    "b=1\n",
    "varr, Elst, na=metropolis_bz_N(b,n,N)\n",
    "print(na/n)"
   ]
  },
  {
   "cell_type": "code",
   "execution_count": 76,
   "metadata": {},
   "outputs": [
    {
     "data": {
      "image/png": "[encoded data removed]",
      "text/plain": [
       "<Figure size 432x288 with 1 Axes>"
      ]
     },
     "metadata": {
      "needs_background": "light"
     },
     "output_type": "display_data"
    }
   ],
   "source": [
    "import matplotlib.pyplot as plt\n",
    "import numpy as np\n",
    "\n",
    "A = 4/np.sqrt(b)\n",
    "\n",
    "#histogram\n",
    "plt.hist(varr[0],range=(-A,A), bins=35, density=True)\n",
    "\n",
    "x=np.linspace(-A,A,100)\n",
    "y=np.sqrt(b/(np.pi*2))*np.exp(-b*x**2/2)\n",
    "plt.plot(x,y)\n",
    "\n",
    "plt.xlabel('v')\n",
    "plt.ylabel('f(v)')\n",
    "plt.title('1D - beta=1')\n",
    "plt.show()"
   ]
  },
  {
   "cell_type": "code",
   "execution_count": 80,
   "metadata": {},
   "outputs": [
    {
     "data": {
      "image/png": "[encoded data removed]",
      "text/plain": [
       "<Figure size 432x288 with 1 Axes>"
      ]
     },
     "metadata": {
      "needs_background": "light"
     },
     "output_type": "display_data"
    }
   ],
   "source": [
    "import matplotlib.pyplot as plt\n",
    "import numpy as np\n",
    "#from matplotlib import rc\n",
    "#rc('text', usetex=True) \n",
    "\n",
    "\n",
    "A=4/b\n",
    "#histogram\n",
    "plt.hist(Elst, density=True)\n",
    "\n",
    "plt.xlabel('E')\n",
    "plt.ylabel('P(E)')\n",
    "plt.title('N=200')\n",
    "plt.show()"
   ]
  },
  {
   "cell_type": "code",
   "execution_count": null,
   "metadata": {},
   "outputs": [],
   "source": []
  }
 ],
 "metadata": {
  "kernelspec": {
   "display_name": "Python 3",
   "language": "python",
   "name": "python3"
  },
  "language_info": {
   "codemirror_mode": {
    "name": "ipython",
    "version": 3
   },
   "file_extension": ".py",
   "mimetype": "text/x-python",
   "name": "python",
   "nbconvert_exporter": "python",
   "pygments_lexer": "ipython3",
   "version": "3.8.5"
  }
 },
 "nbformat": 4,
 "nbformat_minor": 4
}
