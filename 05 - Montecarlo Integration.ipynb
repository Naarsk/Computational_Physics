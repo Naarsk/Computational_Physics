{
 "cells": [
  {
   "cell_type": "markdown",
   "metadata": {},
   "source": [
    "## 1. Equispaced points: comparison trapezoidal-Simpson rules"
   ]
  },
  {
   "cell_type": "markdown",
   "metadata": {},
   "source": [
    "Consider the definite integral :                                               \n",
    "I = Int[exp(x),0,1] = e −1 = 1.718282 . . .                                 \n",
    "Write a code to calculate the integral using the (1) trapezoidal\n",
    "rule or (2) the Simpson rule. In general, we indicate with Fn the\n",
    "estimate of the integral from x0 to xn using a discretisation in n intervals\n",
    "(even for the Simpson algorithm) of width h =(x_n -x_0)/n. Therefore:\n",
    "Int[f(x),x_0,x_n]= Ftrap_n + O(h^2) = FSimpson_n + O(h^4),                     \n",
    "where:                                                                  \n",
    "(1)   Ftrap_n = h [1/2 f0 + f1 + . . . + fn−1 + 1/2 fn],                                                                               \n",
    "(2)   FSimpson _n = h [1/3 f0 +4/3 f1 + 2/3 f2 + 4/3 f3 + . . .+4/3 fn−3 +2/3 fn−2 +4/3 fn−1 +1/3 fn]."
   ]
  },
  {
   "cell_type": "code",
   "execution_count": 1,
   "metadata": {},
   "outputs": [],
   "source": [
    "def trap(f, x0, xn, n):\n",
    "    h=(xn-x0)/n\n",
    "    F=f(x0)/2\n",
    "    x=x0+h\n",
    "    for i in range(1,n):\n",
    "        F=F+f(x)        \n",
    "        x=x+h\n",
    "    F=F+f(x)/2\n",
    "    return F*h    "
   ]
  },
  {
   "cell_type": "code",
   "execution_count": 2,
   "metadata": {},
   "outputs": [],
   "source": [
    "def simp(f, x0, xn, n):\n",
    "    h=(xn-x0)/n\n",
    "    F=f(x0)/3\n",
    "    x=x0+h\n",
    "    for i in range(1,n):\n",
    "        if(i%2==0):\n",
    "            F=F+f(x)*2/3       \n",
    "        else:\n",
    "            F=F+f(x)*4/3       \n",
    "        x=x+h \n",
    "    F=F+f(x)/3\n",
    "    return F*h    "
   ]
  },
  {
   "cell_type": "markdown",
   "metadata": {},
   "source": [
    "(a) Which is the dependence on n of the error Dn = Fn − I ? You can\n",
    "choose n = 2^k (with k = 2, . . . 8, at least) in order to have equispaced\n",
    "points when doing a log-log plot. You should find Dn = 1/n2 for the\n",
    "trapezoidal rule and Dn = 1/n4 for the Simpson rule."
   ]
  },
  {
   "cell_type": "code",
   "execution_count": 3,
   "metadata": {},
   "outputs": [],
   "source": [
    "#least squares fit\n",
    "import numpy as np\n",
    "\n",
    "def lsfit(x,y):\n",
    "    if len(x)== len(y):\n",
    "        n=len(x)\n",
    "    else:\n",
    "        print('error: array lenghts do not match')\n",
    "        \n",
    "    x=np.array(x)\n",
    "    y=np.array(y)\n",
    "    \n",
    "    xm=sum(x)/n\n",
    "    ym=sum(y)/n\n",
    "    \n",
    "    ssxx=sum(x**2)-n*xm**2\n",
    "    ssxy=sum(x*y)-n*xm*ym\n",
    "\n",
    "    m=ssxy/ssxx\n",
    "    q=ym-m*xm\n",
    "    \n",
    "    return(m,q)"
   ]
  },
  {
   "cell_type": "code",
   "execution_count": 4,
   "metadata": {},
   "outputs": [],
   "source": [
    "import numpy as np\n",
    "\n",
    "xn=1\n",
    "x0=0\n",
    "res=np.exp(1)-1\n",
    "\n",
    "n=2\n",
    "kmax=10\n",
    "\n",
    "nlst=[]\n",
    "Dtrap=[]\n",
    "Dsimp=[]\n",
    "\n",
    "for k in range(kmax):\n",
    "    Dtrap.append(abs(res-trap(np.exp, x0, xn, n)))\n",
    "    Dsimp.append(abs(res-simp(np.exp, x0, xn, n)))\n",
    "    nlst.append(n)\n",
    "    n=n*2"
   ]
  },
  {
   "cell_type": "code",
   "execution_count": 5,
   "metadata": {},
   "outputs": [
    {
     "data": {
      "image/png": "[encoded data removed]",
      "text/plain": [
       "<Figure size 432x288 with 1 Axes>"
      ]
     },
     "metadata": {
      "needs_background": "light"
     },
     "output_type": "display_data"
    }
   ],
   "source": [
    "import matplotlib.pyplot as plt\n",
    "import numpy as np\n",
    "\n",
    "#loglog plot\n",
    "plt.plot(np.log2(nlst), np.log2(Dtrap),  label='Trapezoidal')\n",
    "plt.plot(np.log2(nlst), np.log2(Dsimp),  label='Simpson')\n",
    "\n",
    "plt.xlabel('log n')\n",
    "plt.ylabel('log Dn')\n",
    "plt.legend()\n",
    "\n",
    "plt.show()"
   ]
  },
  {
   "cell_type": "code",
   "execution_count": 6,
   "metadata": {},
   "outputs": [
    {
     "name": "stdout",
     "output_type": "stream",
     "text": [
      "m_trap= -1.9995965302295737 m_simp= -3.9827980699329206\n"
     ]
    }
   ],
   "source": [
    "mt,qt=lsfit(np.log(nlst), np.log(Dtrap))\n",
    "ms,qs=lsfit(np.log(nlst), np.log(Dsimp))\n",
    "print('m_trap=', mt, 'm_simp=', ms)"
   ]
  },
  {
   "cell_type": "markdown",
   "metadata": {},
   "source": [
    "## 2. Monte Carlo method: generic sample mean and importance sampling"
   ]
  },
  {
   "cell_type": "markdown",
   "metadata": {},
   "source": [
    "Comparison between trapezoidal, simpson and mc sample mean method"
   ]
  },
  {
   "cell_type": "code",
   "execution_count": 7,
   "metadata": {},
   "outputs": [],
   "source": [
    "import numpy as np\n",
    "\n",
    "def MCSM(f, xi, xf, n):\n",
    "    F=0\n",
    "    for i in range(n):\n",
    "        F=F+f(np.random.uniform(xi,xf))\n",
    "    return F/n"
   ]
  },
  {
   "cell_type": "code",
   "execution_count": 8,
   "metadata": {},
   "outputs": [],
   "source": [
    "import numpy as np\n",
    "\n",
    "xn=1\n",
    "x0=0\n",
    "res=np.exp(1)-1\n",
    "\n",
    "n=2\n",
    "kmax=10\n",
    "\n",
    "nlst=[]\n",
    "Dtrap=[]\n",
    "Dsimp=[]\n",
    "Dmcsm=[]\n",
    "\n",
    "for k in range(kmax):\n",
    "    Dtrap.append(abs(res-trap(np.exp, x0, xn, n)))\n",
    "    Dsimp.append(abs(res-simp(np.exp, x0, xn, n)))\n",
    "    Dmcsm.append(abs(res-MCSM(np.exp, x0, xn, n)))\n",
    "    nlst.append(n)\n",
    "    n=n*2"
   ]
  },
  {
   "cell_type": "code",
   "execution_count": 22,
   "metadata": {},
   "outputs": [
    {
     "data": {
      "image/png": "[encoded data removed]",
      "text/plain": [
       "<Figure size 432x288 with 1 Axes>"
      ]
     },
     "metadata": {
      "needs_background": "light"
     },
     "output_type": "display_data"
    }
   ],
   "source": [
    "import matplotlib.pyplot as plt\n",
    "import numpy as np\n",
    "\n",
    "#loglog plot\n",
    "plt.plot(np.log2(nlst), np.log2(Dtrap),  label='Trapezoidal')\n",
    "plt.plot(np.log2(nlst), np.log2(Dsimp),  label='Simpson')\n",
    "plt.plot(np.log2(nlst), np.log2(Dmcsm),  label='MC sample mean')\n",
    "\n",
    "\n",
    "plt.xlabel('log n')\n",
    "plt.ylabel('log Dn')\n",
    "plt.legend()\n",
    "\n",
    "plt.show()"
   ]
  },
  {
   "cell_type": "code",
   "execution_count": 9,
   "metadata": {},
   "outputs": [
    {
     "name": "stdout",
     "output_type": "stream",
     "text": [
      "m_trap= -1.9995965302295737 m_simp= -3.9827980699329206 m_mcsm= -0.32621368825868446\n"
     ]
    }
   ],
   "source": [
    "mt,qt=lsfit(np.log(nlst), np.log(Dtrap))\n",
    "ms,qs=lsfit(np.log(nlst), np.log(Dsimp))\n",
    "mm,qm=lsfit(np.log(nlst), np.log(Dmcsm))\n",
    "\n",
    "print('m_trap=', mt, 'm_simp=', ms, 'm_mcsm=', mm)"
   ]
  },
  {
   "cell_type": "markdown",
   "metadata": {},
   "source": [
    "(a) Write a code to compute the numerical estimate Fn of \n",
    "I = Int[exp(-x^2),0,1] = sqrt(pi)/2 * erf(1) = 0.746824                              \n",
    "with the MC sample mean method using a set {xi} of n random points \n",
    "uniformly distributed in [0,1]:\n",
    "Fn = 1/n sum_(i=1)^n f(xi)"
   ]
  },
  {
   "cell_type": "code",
   "execution_count": 13,
   "metadata": {},
   "outputs": [
    {
     "name": "stdout",
     "output_type": "stream",
     "text": [
      "0.03280043838526936 0.1928665663376773\n"
     ]
    }
   ],
   "source": [
    "from math import erf\n",
    "import numpy as np\n",
    "xi=0\n",
    "xf=1\n",
    "res=erf(1)*np.sqrt(np.pi)/2\n",
    "\n",
    "def gauss(x):\n",
    "    return np.exp(-x**2)\n",
    "\n",
    "a=abs(MCSM(gauss,0,1,100)-res)\n",
    "b=abs(pMCSM(gauss,0,1,100)-res)\n",
    "\n",
    "print(a,b)"
   ]
  },
  {
   "cell_type": "code",
   "execution_count": 32,
   "metadata": {},
   "outputs": [],
   "source": [
    "def PMCSM(f, A):    #A è un array (2xN), della forma [..., [x_i, p(x_i)/N], ...], con le x_i distribuite secondo p \n",
    "    n=len(A)        #e dove N è l'integrale della distribuzione p tra x_i e x_n\n",
    "    F=0\n",
    "    for x,p in A:\n",
    "        F=F+f(x)/p\n",
    "    return F/n\n",
    "\n",
    "import numpy as np\n",
    "\n",
    "def unif_gen(xi,xf,n):\n",
    "    A = []\n",
    "    #N = (xf-xi)/(xf-xi)=1\n",
    "    for i in range(n):\n",
    "        A.append([np.random.uniform(xi,xf), xf-xi])\n",
    "    return A\n",
    "\n",
    "def exp_gen(xi,xf,n):\n",
    "    A = []\n",
    "    N = np.exp(-xi)-np.exp(-xf)\n",
    "    for i in range(n):\n",
    "        l=np.random.exponential(1.0)\n",
    "        while l > xf or l < xi :\n",
    "            l=np.random.exponential(1.0)\n",
    "        A.append([l, np.exp(-l)/N])\n",
    "    return A"
   ]
  },
  {
   "cell_type": "code",
   "execution_count": 33,
   "metadata": {},
   "outputs": [],
   "source": [
    "from math import erf\n",
    "import numpy as np\n",
    "\n",
    "xi=0\n",
    "xf=1\n",
    "res = erf(1)*np.sqrt(np.pi)/2\n",
    "\n",
    "def gauss(x):\n",
    "    return np.exp(-x**2)\n",
    "\n",
    "\n",
    "n=2\n",
    "kmax=16\n",
    "\n",
    "nlst=[]\n",
    "Dunif=[]\n",
    "Dexp=[]\n",
    "\n",
    "for k in range(kmax):\n",
    "    Aunif = unif_gen(xi,xf,n)\n",
    "    Aexp = exp_gen(xi,xf,n)\n",
    "    Dunif.append(abs(res-PMCSM(gauss,Aunif)))\n",
    "    Dexp.append(abs(res-PMCSM(gauss,Aexp)))\n",
    "    nlst.append(n)\n",
    "    n=n*2"
   ]
  },
  {
   "cell_type": "code",
   "execution_count": 34,
   "metadata": {},
   "outputs": [
    {
     "data": {
      "image/png": "[encoded data removed]",
      "text/plain": [
       "<Figure size 432x288 with 1 Axes>"
      ]
     },
     "metadata": {
      "needs_background": "light"
     },
     "output_type": "display_data"
    }
   ],
   "source": [
    "import matplotlib.pyplot as plt\n",
    "import numpy as np\n",
    "\n",
    "#loglog plot\n",
    "plt.plot(np.log2(nlst), np.log2(Dunif),  label='Uniform dist.')\n",
    "plt.plot(np.log2(nlst), np.log2(Dexp),  label='Exponential dist.')\n",
    "\n",
    "\n",
    "plt.xlabel('log n')\n",
    "plt.ylabel('log Dn')\n",
    "plt.legend()\n",
    "\n",
    "plt.show()"
   ]
  },
  {
   "cell_type": "code",
   "execution_count": 27,
   "metadata": {},
   "outputs": [
    {
     "name": "stdout",
     "output_type": "stream",
     "text": [
      "m_unif= -0.41719204320106196 m_exp= -0.5175007680254637\n"
     ]
    }
   ],
   "source": [
    "mu,qe=lsfit(np.log(nlst), np.log(Dunif))\n",
    "me,qe=lsfit(np.log(nlst), np.log(Dexp))\n",
    "\n",
    "print('m_unif=', mu, 'm_exp=', me)"
   ]
  },
  {
   "cell_type": "markdown",
   "metadata": {},
   "source": [
    "(c) Compare the efficiency of the two sampling methods (uniform and\n",
    "importance sampling) for the estimate of the integral by calculating\n",
    "the following quantities: Fn, Sn = (< f2\n",
    "i > − < fi >2)1/2, and Sn/pn,\n",
    "where fi = f(xi) in the first case, and fi = f(xi)/p(xi)*int_a^b p(x)dx\n",
    "in the second case (make a log-log plot of the error as a function of n: what\n",
    "do you see?)."
   ]
  },
  {
   "cell_type": "code",
   "execution_count": 35,
   "metadata": {},
   "outputs": [],
   "source": [
    "def S(f, A):    #A è un array (2xN), della forma [..., [x_i, p(x_i)/N], ...], con le x_i distribuite secondo p \n",
    "    n=len(A)        #e dove N è l'integrale della distribuzione p tra x_i e x_n\n",
    "    F=0\n",
    "    F2=0\n",
    "    for x,p in A:\n",
    "        F=F+f(x)/p\n",
    "        F2=F2+(f(x)/p)**2\n",
    "    S=np.sqrt(F2/n-(F/n)**2)\n",
    "    return S"
   ]
  },
  {
   "cell_type": "code",
   "execution_count": 48,
   "metadata": {},
   "outputs": [],
   "source": [
    "from math import erf\n",
    "import numpy as np\n",
    "\n",
    "xi=0\n",
    "xf=1\n",
    "res = erf(1)*np.sqrt(np.pi)/2\n",
    "\n",
    "def gauss(x):\n",
    "    return np.exp(-x**2)\n",
    "\n",
    "\n",
    "n=2\n",
    "kmax=16\n",
    "\n",
    "nlst=[]\n",
    "Sunif=[]\n",
    "Sexp=[]\n",
    "\n",
    "for k in range(kmax):\n",
    "    Aunif = unif_gen(xi,xf,n)\n",
    "    Aexp = exp_gen(xi,xf,n)\n",
    "    Sunif.append(S(gauss,Aunif))\n",
    "    Sexp.append(S(gauss,Aexp))\n",
    "    nlst.append(n)\n",
    "    n=n*2"
   ]
  },
  {
   "cell_type": "code",
   "execution_count": 49,
   "metadata": {},
   "outputs": [
    {
     "data": {
      "image/png": "[encoded data removed]",
      "text/plain": [
       "<Figure size 432x288 with 1 Axes>"
      ]
     },
     "metadata": {
      "needs_background": "light"
     },
     "output_type": "display_data"
    }
   ],
   "source": [
    "import matplotlib.pyplot as plt\n",
    "import numpy as np\n",
    "\n",
    "#loglog plot\n",
    "plt.plot(np.log2(nlst), np.log2(Sunif),  label='Uniform dist.')\n",
    "plt.plot(np.log2(nlst), np.log2(Sexp),  label='Exponential dist.')\n",
    "\n",
    "\n",
    "plt.xlabel('log n')\n",
    "plt.ylabel('log Sn')\n",
    "plt.legend()\n",
    "\n",
    "plt.show()"
   ]
  },
  {
   "cell_type": "code",
   "execution_count": 41,
   "metadata": {},
   "outputs": [
    {
     "data": {
      "image/png": "[encoded data removed]",
      "text/plain": [
       "<Figure size 432x288 with 1 Axes>"
      ]
     },
     "metadata": {
      "needs_background": "light"
     },
     "output_type": "display_data"
    }
   ],
   "source": [
    "import matplotlib.pyplot as plt\n",
    "import numpy as np\n",
    "\n",
    "#loglog plot\n",
    "plt.plot(np.log2(nlst), np.log2(Sunif/np.sqrt(nlst)),  label='Uniform dist.')\n",
    "plt.plot(np.log2(nlst), np.log2(Sexp/np.sqrt(nlst)),  label='Exponential dist.')\n",
    "\n",
    "\n",
    "plt.xlabel('log n')\n",
    "plt.ylabel('log Sn/sqrt(n)')\n",
    "plt.legend()\n",
    "\n",
    "plt.show()"
   ]
  },
  {
   "cell_type": "code",
   "execution_count": 2,
   "metadata": {},
   "outputs": [],
   "source": [
    "import numpy as np\n",
    "\n",
    "def circ(x):\n",
    "    return np.sqrt(1-x**2)\n",
    "\n",
    "\n",
    "def MCSM(f, xi, xf, n):\n",
    "    F=0\n",
    "    for i in range(n):\n",
    "        F=F+f(np.random.uniform(xi,xf))\n",
    "    return F/n"
   ]
  },
  {
   "cell_type": "code",
   "execution_count": 14,
   "metadata": {},
   "outputs": [],
   "source": [
    "xn=1\n",
    "x0=0\n",
    "res=np.pi/4\n",
    "D=[]\n",
    "\n",
    "nlst=[]\n",
    "values=[10**2,10**3,10**4,10**5,10**6]\n",
    "\n",
    "for n in values:\n",
    "    D.append(abs(res-MCSM(circ, x0, xn, n)))\n",
    "    nlst.append(n)"
   ]
  },
  {
   "cell_type": "code",
   "execution_count": 24,
   "metadata": {},
   "outputs": [
    {
     "data": {
      "image/png": "[encoded data removed]",
      "text/plain": [
       "<Figure size 432x288 with 1 Axes>"
      ]
     },
     "metadata": {
      "needs_background": "light"
     },
     "output_type": "display_data"
    }
   ],
   "source": [
    "import matplotlib.pyplot as plt\n",
    "import numpy as np\n",
    "\n",
    "#loglog plot\n",
    "plt.plot(np.log10(nlst), np.log10(D),label='calculated')\n",
    "x = np.linspace(2,6,10)\n",
    "y = -x/2-1/2\n",
    "plt.plot(x,y, label = 'theoretical')\n",
    "\n",
    "plt.xlabel('log n')\n",
    "plt.ylabel('log Dn')\n",
    "plt.legend()\n",
    "\n",
    "plt.show()"
   ]
  },
  {
   "cell_type": "code",
   "execution_count": 21,
   "metadata": {},
   "outputs": [
    {
     "name": "stdout",
     "output_type": "stream",
     "text": [
      "m_unif= -0.4656930687022437\n"
     ]
    }
   ],
   "source": [
    "m,q=lsfit(np.log(nlst), np.log(D))\n",
    "\n",
    "print('m_unif=', m)"
   ]
  },
  {
   "cell_type": "markdown",
   "metadata": {},
   "source": [
    "(b) Choose in particulat n = 10^4 and consider the corresponding error\n",
    "Dn. Calculate S2n =< f2 > − < f >2. \n",
    "You should recognize that\n",
    "Sn CANNOT BE CONSIDERED A GOOD ESTIMATE OF THE\n",
    "ERROR (it’s much larger than the actual error. . . )"
   ]
  },
  {
   "cell_type": "code",
   "execution_count": 9,
   "metadata": {},
   "outputs": [
    {
     "name": "stdout",
     "output_type": "stream",
     "text": [
      "0.2230370282641928 0.00043039166473557433\n"
     ]
    }
   ],
   "source": [
    "n=10**4\n",
    "\n",
    "A = np.random.uniform(0,1,n)\n",
    "\n",
    "F=0\n",
    "F2=0\n",
    "\n",
    "for x in A:\n",
    "    F=F+circ(x)\n",
    "    F2=F2+(circ(x))**2\n",
    "\n",
    "S=np.sqrt(F2/n-(F/n)**2)\n",
    "D=abs(res-MCSM(circ, 0, 1, n))\n",
    "\n",
    "print(S,D)"
   ]
  },
  {
   "cell_type": "markdown",
   "metadata": {},
   "source": [
    "(c) In order to improve the error estimate, apply the following two different\n",
    "methods of variance reduction: 1) “average of the averages”:\n",
    "do m =10 runs with n points each, and consider the average of the\n",
    "averages and its standard deviation:\n",
    "!2m\n",
    "=<M2 > −<M >2\n",
    "where\n",
    "<M >=\n",
    "1\n",
    "m\n",
    "Xm\n",
    "↵=1\n",
    "M↵ e <M2\n",
    ">=\n",
    "1\n",
    "m\n",
    "Xm\n",
    "↵=1\n",
    "M2↵\n",
    "and M↵ is the average of each run. You should recognize that !m is\n",
    "a good estimate of the error associated to each measurement (=each\n",
    "run) and !m ⇡ !n/pn is the error associated to the average over the\n",
    "di↵erent runs."
   ]
  },
  {
   "cell_type": "code",
   "execution_count": 12,
   "metadata": {},
   "outputs": [
    {
     "name": "stdout",
     "output_type": "stream",
     "text": [
      "0.0021853400650065067\n"
     ]
    }
   ],
   "source": [
    "n=10**4\n",
    "m=10\n",
    "M=0\n",
    "M2=0\n",
    "\n",
    "for j in range(m):\n",
    "    A = np.random.uniform(0,1,n)\n",
    "    F=0\n",
    "    for x in A:\n",
    "        F=F+circ(x)\n",
    "\n",
    "    M=M+F/n\n",
    "    M2=M2+(F/n)**2\n",
    "\n",
    "S=np.sqrt(M2/m-(M/m)**2)\n",
    "\n",
    "print(S)"
   ]
  },
  {
   "cell_type": "code",
   "execution_count": 30,
   "metadata": {},
   "outputs": [
    {
     "name": "stdout",
     "output_type": "stream",
     "text": [
      "[0.013364195995529671, 0.011845372852598504, 0.014154477699746608, 0.003443372753723481, 0.0063885902168489325, 0.004344053056900651, 0.002049402178447916, 0.002128788766873488, 0.0007509806750058901, 0.0007173731664015814, 0.0003982391289562255]\n"
     ]
    }
   ],
   "source": [
    "m=10\n",
    "S=[]\n",
    "\n",
    "nlst=[]\n",
    "values=[2**7,2**8,2**9,2**10,2**11,2**12,2**13,2**14,2**15,2**16,2**17]\n",
    "\n",
    "for n in values:\n",
    "    M=0\n",
    "    M2=0\n",
    "    nlst.append(n)\n",
    "\n",
    "    for j in range(m):\n",
    "        A = np.random.uniform(0,1,n)\n",
    "        F=0\n",
    "        for x in A:\n",
    "            F=F+circ(x)\n",
    "\n",
    "        M=M+F/n\n",
    "        M2=M2+(F/n)**2\n",
    "\n",
    "    S.append(np.sqrt(M2/m-(M/m)**2))\n",
    "\n",
    "print(S)"
   ]
  },
  {
   "cell_type": "code",
   "execution_count": 31,
   "metadata": {},
   "outputs": [
    {
     "name": "stdout",
     "output_type": "stream",
     "text": [
      "m_unif= -0.5205607792359656\n"
     ]
    }
   ],
   "source": [
    "m,q=lsfit(np.log(nlst), np.log(S))\n",
    "\n",
    "print('m_unif=', m)"
   ]
  },
  {
   "cell_type": "code",
   "execution_count": 34,
   "metadata": {},
   "outputs": [
    {
     "data": {
      "image/png": "[encoded data removed]",
      "text/plain": [
       "<Figure size 432x288 with 1 Axes>"
      ]
     },
     "metadata": {
      "needs_background": "light"
     },
     "output_type": "display_data"
    }
   ],
   "source": [
    "import matplotlib.pyplot as plt\n",
    "import numpy as np\n",
    "\n",
    "#loglog plot\n",
    "plt.plot(np.log10(nlst), np.log10(S),label='calculated')\n",
    "x = np.linspace(2,5,10)\n",
    "y = -x/2-1/2-1/4\n",
    "plt.plot(x,y, label = 'theoretical')\n",
    "\n",
    "plt.xlabel('log n')\n",
    "plt.ylabel('log Sm')\n",
    "plt.legend()\n",
    "\n",
    "plt.show()"
   ]
  },
  {
   "cell_type": "code",
   "execution_count": null,
   "metadata": {},
   "outputs": [],
   "source": []
  }
 ],
 "metadata": {
  "kernelspec": {
   "display_name": "Python 3",
   "language": "python",
   "name": "python3"
  },
  "language_info": {
   "codemirror_mode": {
    "name": "ipython",
    "version": 3
   },
   "file_extension": ".py",
   "mimetype": "text/x-python",
   "name": "python",
   "nbconvert_exporter": "python",
   "pygments_lexer": "ipython3",
   "version": "3.8.5"
  }
 },
 "nbformat": 4,
 "nbformat_minor": 4
}
