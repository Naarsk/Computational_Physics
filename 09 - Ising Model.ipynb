{
 "cells": [
  {
   "metadata": {},
   "cell_type": "markdown",
   "source": [
    "## 1. Ising Model on a square lattice\n",
    "Write a code for a 2D Ising model on a square lattice in equilibrium with a thermal bath,\n",
    "without external magnetic field, using the spin \n",
    "flip dynamics (considered as an actual\n",
    "temporal evolution process), and periodic boundary conditions (PBC).(a) Choose L=30, T=2, and initially spin=s randomly. Calculate and plot the instantaneous values of energy E/N and magnetization M/N per particle as a function of Metropolis-Monte Carlo steps: how much time (i.e. how many n_equil MC steps) is necessary to equilibrate the system? Plot the final snapshot of the spin pattern: does the system appear ordered or disordered? Calculate also c and $\\chi$."
   ]
  },
  {
   "cell_type": "code",
   "execution_count": 1,
   "metadata": {},
   "outputs": [],
   "source": [
    "%matplotlib inline\n",
    "import numpy as np\n",
    "\n",
    "def chessboard(w, h) :\n",
    "    cb=np.ones((w,h))\n",
    "    for i in range(w):\n",
    "        for j in range(h):\n",
    "            if (i+j)%2==1:\n",
    "                cb[i,j]=-1\n",
    "    return cb\n",
    "\n",
    "def split(w, h) :\n",
    "    cb=np.ones((w,h))\n",
    "    for i in range(w):\n",
    "        for j in range(int(h/2)):\n",
    "            cb[i,j]=-1\n",
    "    return cb\n",
    "\n",
    "def energy(spin):\n",
    "    L1,L2=np.shape(spin)\n",
    "    E=0\n",
    "    for x in range(L1):\n",
    "        for y in range(L2):\n",
    "            nnsum=spin[(x+1)%L1,y]+spin[x,(y+1)%L2]\n",
    "            E=E-spin[x,y]*nnsum\n",
    "    return E\n",
    "\n",
    "def delta_energy(spin,x,y):\n",
    "    L1,L2=np.shape(spin)\n",
    "    dE=2*spin[x,y]*(spin[(x+1)%L1,y]+spin[x,(y+1)%L2]+spin[(x-1)%L1,y]+spin[x,(y-1)%L2])\n",
    "    return dE\n",
    "\n",
    "def metropolis_ising(L,b,n):\n",
    "    #spin=2*np.random.randint(0,2,(L,L))-1   #random spin lattice\n",
    "    spin=np.ones((L,L))                     #all spin up lattice\n",
    "    #spin=-np.ones((L,L))                    #all spin down lattice\n",
    "    #spin=chessboard(L,L)                    #chessboard lattice\n",
    "    #spin=split(L,L)                          #half up half down\n",
    "    \n",
    "    Marr=[]\n",
    "    Earr=[]\n",
    "    na=0\n",
    "    \n",
    "    M=np.sum(spin)\n",
    "    E=energy(spin)\n",
    "\n",
    "    for i in range(n):\n",
    "        Earr.append(E)\n",
    "        Marr.append(M)\n",
    "        \n",
    "        x=np.random.randint(L)\n",
    "        y=np.random.randint(L)\n",
    "        \n",
    "        dE=delta_energy(spin,x,y)\n",
    "        r=np.random.uniform()\n",
    "        \n",
    "        if np.exp(-b*dE)>=r:          #accept\n",
    "            spin[x,y]=-spin[x,y]      #flip\n",
    "            na=na+1\n",
    "            E=E+dE\n",
    "            M=M+2*spin[x,y]\n",
    "            \n",
    "    return np.array(Earr), np.array(Marr), spin"
   ]
  },
  {
   "cell_type": "code",
   "execution_count": null,
   "metadata": {},
   "outputs": [],
   "source": [
    "n=500000\n",
    "L=30\n",
    "b=0.5\n",
    "N=L**2\n",
    "E,M,spin=metropolis_ising(L,b,n)"
   ]
  },
  {
   "cell_type": "code",
   "execution_count": null,
   "metadata": {},
   "outputs": [],
   "source": [
    "import matplotlib.pyplot as plt\n",
    "ran=range(n)\n",
    "plt.plot(ran,M/N)\n",
    "plt.suptitle(r'M vs. $n_{step}$', fontsize=14)\n"
   ]
  },
  {
   "cell_type": "code",
   "execution_count": null,
   "metadata": {},
   "outputs": [],
   "source": [
    "f=300000\n",
    "ran=range(n)[f:]\n",
    "E=E[f:]\n",
    "M=M[f:]\n",
    "\n",
    "print('c=',b**2*np.var(E)/N, '\\t','\\chi=', b*np.var(M)/N)"
   ]
  },
  {
   "cell_type": "code",
   "execution_count": null,
   "metadata": {},
   "outputs": [],
   "source": [
    "%matplotlib inline\n",
    "import matplotlib.pyplot as plt\n",
    "import numpy as np\n",
    "\n",
    "fig, ax = plt.subplots(nrows=2, ncols=2, figsize=(10, 10))\n",
    "\n",
    "#Energy evolution\n",
    "ax[0,0].plot(ran,E/N)\n",
    "ax[0,0].set(xlabel='n',ylabel='E/N', title ='Energy vs n_step')\n",
    "\n",
    "#Magnetization evolution\n",
    "ax[0,1].plot(ran,M/N)\n",
    "ax[0,1].set(xlabel='n',ylabel='M/N', title ='Magnetization vs n_step')\n",
    "\n",
    "\n",
    "#Energy histogram\n",
    "ax[1,0].hist(E/N, density=True)\n",
    "ax[1,0].set(xlabel='E',ylabel='P(E)', title ='Energy distribution')\n",
    "\n",
    "#Magnetization histogram\n",
    "ax[1,1].hist(M/N, density=True)\n",
    "ax[1,1].set(xlabel='M',ylabel='P(M)', title ='Magnetization distribution')\n",
    "\n",
    "#set overall title\n",
    "plt.suptitle(r'$\\beta = $' + str(b), fontsize=14)\n",
    "\n",
    "# set the spacing between subplots\n",
    "fig.tight_layout()\n",
    "\n",
    "plt.show()"
   ]
  },
  {
   "cell_type": "code",
   "execution_count": null,
   "metadata": {
    "scrolled": true
   },
   "outputs": [],
   "source": [
    "#spin=2*np.random.randint(0,2,(L,L))-1   #random spin lattice\n",
    "#spin=np.ones((L,L))                     #all spin up lattice\n",
    "#spin=-np.ones((L,L))                    #all spin down lattice\n",
    "spin=chessboard(L,L)                    #chessboard lattice\n",
    "#spin=split(L,L)   \n",
    "plt.imshow(spin, extent=(0,L,0,L), vmin=-1, vmax=1)"
   ]
  },
  {
   "cell_type": "markdown",
   "metadata": {},
   "source": [
    "(c) For \fxed T, e.g. for T=1 or T=2, change the initial condition of magnetization (choose\n",
    "for instance some typical ordered configurations -all spins up, all spins down, alternatively up or down as on a chessboard, all left hand side spins up and all right hand side down, . . . ). Does the equilibration time change?"
   ]
  },
  {
   "cell_type": "code",
   "execution_count": null,
   "metadata": {},
   "outputs": [],
   "source": [
    "%matplotlib inline\n",
    "import matplotlib.pyplot as plt\n",
    "import numpy as np\n",
    "\n",
    "\n",
    "fig, ax = plt.subplots(nrows=1, ncols=2, figsize=(11, 5))\n",
    "\n",
    "#Energy evolution\n",
    "ax[0].plot(range(n),E/N)\n",
    "ax[0].set(xlabel='n',ylabel='E/N', title ='Energy vs n_step')\n",
    "\n",
    "#Energy histogram\n",
    "ax[1].hist(E/N, density=True)\n",
    "ax[1].set(xlabel='E',ylabel='P(E)', title ='Energy distribution')\n",
    "\n",
    "#set overall title\n",
    "plt.suptitle('Random, '+r'$\\beta = $' + str(b), fontsize=14)\n",
    "\n",
    "# set the spacing between subplots\n",
    "fig.tight_layout()\n",
    "\n",
    "plt.show()"
   ]
  },
  {
   "cell_type": "markdown",
   "metadata": {},
   "source": [
    "(d) Change the temperature T by varying it from 1 to 4 with steps of \u0001T = 0:5. Consider\n",
    "runs long enough, so that the equilibrium has been reached and enough statistical data\n",
    "are collected. Calculate hEi/N, hMi/N, c and \u001F; plot these quantities as functions\n",
    "of T. Can you estimate from the plots the critical temperature (whose value Tc =\n",
    "2:269 J=kB for 2D is known in case L ! 1)? Calculate numerically c both in terms of\n",
    "energy \n",
    "uctuations and doing the numerical derivative with respect to the temperature.\n",
    "Compare the results."
   ]
  },
  {
   "cell_type": "code",
   "execution_count": 8,
   "metadata": {},
   "outputs": [],
   "source": [
    "Tvalues = np.linspace(1,4,8)\n",
    "n=300000\n",
    "n_scarto=100000\n",
    "L=30\n",
    "N=L**2\n",
    "Eav=[]\n",
    "Mav=[]\n",
    "c=[]\n",
    "chi=[]\n",
    "slist=[]\n",
    "\n",
    "for T in Tvalues:\n",
    "    b=1/T\n",
    "    E,M,spin=metropolis_ising(L,b,n)\n",
    "    E=E[n_scarto:]\n",
    "    M=M[n_scarto:]\n",
    "    Eav.append(np.average(E)/N)\n",
    "    Mav.append(np.average(M)/N)\n",
    "    c.append(b**2*np.var(E)/N)\n",
    "    chi.append(b*np.var(M)/N)\n",
    "    slist.append(spin)"
   ]
  },
  {
   "cell_type": "code",
   "execution_count": 9,
   "metadata": {},
   "outputs": [
    {
     "data": {
      "image/png": "[encoded data removed]",
      "text/plain": [
       "<Figure size 720x444.444 with 4 Axes>"
      ]
     },
     "metadata": {
      "needs_background": "light"
     },
     "output_type": "display_data"
    }
   ],
   "source": [
    "%matplotlib inline\n",
    "import matplotlib.pyplot as plt\n",
    "import numpy as np\n",
    "\n",
    "\n",
    "fig, ax = plt.subplots(nrows=2, ncols=2, figsize=(10, 10/1.62))\n",
    "\n",
    "#capacity \n",
    "ax[0,0].plot(Tvalues,Eav)\n",
    "ax[0,0].set(xlabel=r'$k_BT$',ylabel=r'$\\langle E \\rangle/N$', title ='Average Energy')\n",
    "\n",
    "#susceptibility \n",
    "ax[0,1].plot(Tvalues,Mav)\n",
    "ax[0,1].set(xlabel=r'$k_BT$',ylabel=r'$\\langle M \\rangle/N$', title ='Average Magnetization')\n",
    "\n",
    "#capacity \n",
    "ax[1,0].plot(Tvalues,c)\n",
    "ax[1,0].set(xlabel=r'$k_BT$',ylabel=r'$c$', title ='Capacity')\n",
    "\n",
    "#susceptibility \n",
    "ax[1,1].plot(Tvalues,chi)\n",
    "ax[1,1].set(xlabel=r'$k_BT$',ylabel=r'$\\chi$', title ='Susceptibility')\n",
    "\n",
    "\n",
    "#set overall title\n",
    "plt.suptitle('L='+str(L), fontsize=14)\n",
    "\n",
    "# set the spacing between subplots\n",
    "fig.tight_layout()\n",
    "\n",
    "plt.show()"
   ]
  },
  {
   "cell_type": "code",
   "execution_count": 4,
   "metadata": {},
   "outputs": [
    {
     "data": {
      "text/plain": [
       "<matplotlib.image.AxesImage at 0x2494bdd0fd0>"
      ]
     },
     "execution_count": 4,
     "metadata": {},
     "output_type": "execute_result"
    },
    {
     "data": {
      "image/png": "[encoded data removed]",
      "text/plain": [
       "<Figure size 432x288 with 1 Axes>"
      ]
     },
     "metadata": {
      "needs_background": "light"
     },
     "output_type": "display_data"
    }
   ],
   "source": [
    "plt.imshow(slist[1], extent=(0,L,0,L), vmin=-1, vmax=1)"
   ]
  },
  {
   "cell_type": "markdown",
   "metadata": {},
   "source": [
    "(f) Open Boundary Conditions"
   ]
  },
  {
   "cell_type": "code",
   "execution_count": null,
   "metadata": {},
   "outputs": [],
   "source": [
    "import numpy as np\n",
    "def energy_obc(spin):\n",
    "    L1,L2=np.shape(spin)\n",
    "    E=0\n",
    "    for x in range(L1-1):\n",
    "        for y in range(L2-1):\n",
    "            nnsum=spin[x+1,y]+spin[x,y+1]\n",
    "            E=E-spin[x,y]*nnsum\n",
    "    return E\n",
    "\n",
    "\n",
    "def delta_energy_obc(spin,x,y):\n",
    "    L1,L2=np.shape(spin)\n",
    "    nnsum=0\n",
    "    if x!=0:\n",
    "        nnsum=nnsum+spin[x-1,y]\n",
    "    if y!=0:\n",
    "        nnsum=nnsum+spin[x,y-1]\n",
    "    if x!=L1-1:\n",
    "        nnsum=nnsum+spin[x+1,y]\n",
    "    if y!=L2-1:\n",
    "        nnsum=nnsum+spin[x,y+1]\n",
    "    dE=spin[x,y]*nnsum\n",
    "    return dE\n",
    "\n",
    "def metropolis_ising_obc(L,b,n):\n",
    "    spin=2*np.random.randint(0,2,(L,L))-1   #random spin lattice\n",
    "    \n",
    "    Marr=[]\n",
    "    Earr=[]\n",
    "    na=0\n",
    "    \n",
    "    M=np.sum(spin)\n",
    "    E=energy_obc(spin)\n",
    "\n",
    "    for i in range(n):\n",
    "        Earr.append(E)\n",
    "        Marr.append(M)\n",
    "        \n",
    "        x=np.random.randint(L)\n",
    "        y=np.random.randint(L)\n",
    "        \n",
    "        dE=delta_energy_obc(spin,x,y)\n",
    "        r=np.random.uniform()\n",
    "        \n",
    "        if np.exp(-b*dE)>=r:          #accept\n",
    "            spin[x,y]=-spin[x,y]      #flip\n",
    "            na=na+1\n",
    "            E=E+dE\n",
    "            M=M+2*spin[x,y]\n",
    "            \n",
    "    return np.array(Earr), np.array(Marr)"
   ]
  },
  {
   "cell_type": "code",
   "execution_count": null,
   "metadata": {},
   "outputs": [],
   "source": [
    "n=100000\n",
    "L=4\n",
    "b=0.5\n",
    "N=L**2\n",
    "E,M=metropolis_ising_obc(L,b,n)\n",
    "\n",
    "print('c=',b**2*np.var(E)/N, '\\t','\\chi=', b*np.var(M)/N)"
   ]
  },
  {
   "cell_type": "code",
   "execution_count": null,
   "metadata": {},
   "outputs": [],
   "source": [
    "%matplotlib inline\n",
    "import matplotlib.pyplot as plt\n",
    "import numpy as np\n",
    "\n",
    "\n",
    "fig, ax = plt.subplots(nrows=2, ncols=2, figsize=(10, 10))\n",
    "\n",
    "#Energy evolution\n",
    "ax[0,0].plot(range(n),E/N)\n",
    "ax[0,0].set(xlabel='n',ylabel='E/N', title ='Energy vs n_step')\n",
    "\n",
    "#Magnetization evolution\n",
    "ax[0,1].plot(range(n),M/N)\n",
    "ax[0,1].set(xlabel='n',ylabel='M/N', title ='Magnetization vs n_step')\n",
    "\n",
    "#Energy histogram\n",
    "ax[1,0].hist(E/N, density=True)\n",
    "ax[1,0].set(xlabel='E',ylabel='P(E)', title ='Energy distribution')\n",
    "\n",
    "#Magnetization histogram\n",
    "ax[1,1].hist(M/N, density=True)\n",
    "ax[1,1].set(xlabel='M',ylabel='P(M)', title ='Magnetization distribution')\n",
    "\n",
    "#set overall title\n",
    "plt.suptitle(r'$\\beta = $' + str(b), fontsize=14)\n",
    "\n",
    "# set the spacing between subplots\n",
    "fig.tight_layout()\n",
    "\n",
    "plt.show()"
   ]
  },
  {
   "cell_type": "markdown",
   "metadata": {},
   "source": [
    "## ANIMATED PLOT"
   ]
  },
  {
   "cell_type": "code",
   "execution_count": null,
   "metadata": {},
   "outputs": [],
   "source": [
    "import numpy as np\n",
    "import matplotlib.pyplot as plt\n",
    "from mpl_toolkits.mplot3d import Axes3D\n",
    "from matplotlib import animation"
   ]
  },
  {
   "cell_type": "markdown",
   "metadata": {},
   "source": [
    "Questa funzione restituisce n/dn array LxL, corrispondenti a degli array di spin di Insing"
   ]
  },
  {
   "cell_type": "code",
   "execution_count": null,
   "metadata": {},
   "outputs": [],
   "source": [
    "def metropolis_ising_lattice(L,b,n):\n",
    "    spin=2*np.random.randint(0,2,(L,L))-1   #random spin lattice\n",
    "    Sarr=np.empty((n,L,L), dtype=int)\n",
    "        \n",
    "    for i in range(n):\n",
    "        Sarr[i]=spin\n",
    "        x=np.random.randint(L)\n",
    "        y=np.random.randint(L)\n",
    "        \n",
    "        dE=delta_energy(spin,x,y)\n",
    "        r=np.random.uniform(0,1)\n",
    "        \n",
    "        if np.exp(-b*dE)>=r:             #accept            \n",
    "            spin[x,y]= - spin[x,y]        #flip\n",
    "\n",
    "    return Sarr"
   ]
  },
  {
   "cell_type": "code",
   "execution_count": null,
   "metadata": {},
   "outputs": [],
   "source": [
    "n=5000               #passi del metropolis\n",
    "L=30\n",
    "b=0.5\n",
    "\n",
    "fps=40               #fotogrammi per secondo\n",
    "\n",
    "t_delay = 1000/fps   #delay between frames in milliseconds\n",
    "t_points=n           #fotogrammi totali\n",
    "t_max = n/(fps)      #tempo finale\n",
    "\n",
    "t = np.linspace(0, t_max, t_points)\n",
    "spin=metropolis_ising_lattice(L,b,n)"
   ]
  },
  {
   "cell_type": "code",
   "execution_count": null,
   "metadata": {},
   "outputs": [],
   "source": [
    "def func(num,spin,t):\n",
    "    \n",
    "    #Clears the figure\n",
    "    ax.clear()                         \n",
    "    \n",
    "    #Add pixel plot\n",
    "    ax.imshow(spin[num], extent=(0,L,0,L))  \n",
    "\n",
    "    #Add Figure Labels\n",
    "    ax.set_title('Metropolis step ' + str(num))\n",
    "    ax.set_xticks(range(0,L+2,2))\n",
    "    ax.set_yticks(range(0,L+2,2))\n"
   ]
  },
  {
   "cell_type": "code",
   "execution_count": null,
   "metadata": {
    "scrolled": true
   },
   "outputs": [],
   "source": [
    "%matplotlib notebook\n",
    "\n",
    "# Plotting the Animation\n",
    "fig = plt.figure()\n",
    "ax = plt.axes()\n",
    "line_ani = animation.FuncAnimation(fig, func, interval=t_delay,frames=t_points,fargs=(spin,t))\n",
    "plt.show()"
   ]
  },
  {
   "cell_type": "code",
   "execution_count": null,
   "metadata": {},
   "outputs": [],
   "source": [
    "Writer = animation.writers['ffmpeg']\n",
    "writer = Writer(fps=40, metadata=dict(artist='Leonardo Cruciani'), bitrate=7200)\n",
    "line_ani.save('Ising.mp4', writer=writer)"
   ]
  },
  {
   "cell_type": "code",
   "execution_count": null,
   "metadata": {},
   "outputs": [],
   "source": []
  }
 ],
 "metadata": {
  "kernelspec": {
   "display_name": "Python 3 (ipykernel)",
   "language": "python",
   "name": "python3"
  },
  "language_info": {
   "codemirror_mode": {
    "name": "ipython",
    "version": 3
   },
   "file_extension": ".py",
   "mimetype": "text/x-python",
   "name": "python",
   "nbconvert_exporter": "python",
   "pygments_lexer": "ipython3",
   "version": "3.9.13"
  }
 },
 "nbformat": 4,
 "nbformat_minor": 4
}
