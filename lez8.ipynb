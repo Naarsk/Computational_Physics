{
 "cells": [
  {
   "cell_type": "markdown",
   "metadata": {},
   "source": [
    "## 1. Quantum oscillator in 1D: variational approach\n",
    "Consider the hamiltonian of the quantum harmonic oscillator H = p2=2 + x2=2 (having\n",
    "choosen m = k = \u0016h = 1). We want to solve it numerically with VMC. To this purpose\n",
    "consider two di\u000b",
    "erent choices for the trial wavefunction:\n",
    "psi1(x)=B(a^2-x^2),  psi2(x)=Ae^(-bx^2)"
   ]
  },
  {
   "cell_type": "code",
   "execution_count": 1,
   "metadata": {},
   "outputs": [],
   "source": [
    "def p1(x,a):\n",
    "    if abs(x)<a:\n",
    "        y=a**2-x**2\n",
    "    else:\n",
    "        y=0    \n",
    "    return y**2\n",
    "\n",
    "def p2(x,b):\n",
    "    return np.exp(-x**2*b*2)"
   ]
  },
  {
   "cell_type": "markdown",
   "metadata": {},
   "source": [
    "(a) Calculate < E >"
   ]
  },
  {
   "cell_type": "code",
   "execution_count": 2,
   "metadata": {},
   "outputs": [],
   "source": [
    "import numpy as np\n",
    "\n",
    "def metropolis(p,x0,d,n, *args):\n",
    "    x=[]\n",
    "    xi=x0\n",
    "    for i in range(n):\n",
    "        x.append(xi)\n",
    "        di=np.random.uniform(-d,d)\n",
    "        xt=xi+di\n",
    "        w=p(xt, *args)/p(xi,*args)\n",
    "        if w >= 1:\n",
    "            xi=xt\n",
    "        else:\n",
    "            r=np.random.uniform(0,1)\n",
    "            if w >= r:\n",
    "                xi=xt   \n",
    "    return np.array(x)"
   ]
  },
  {
   "cell_type": "code",
   "execution_count": 3,
   "metadata": {},
   "outputs": [],
   "source": [
    "#Energy of first wavefunction\n",
    "def E1(x,a):\n",
    "    Epot=sum(x**2/2)/n\n",
    "    Ekin=sum(1/(a**2-x**2))/n\n",
    "    E=Epot+Ekin\n",
    "    return E\n",
    "\n",
    "#Energy of second wavefunction\n",
    "def E2(x,b):\n",
    "    S=sum(np.array(x)**2)/n\n",
    "    E=b+(0.5-2*b**2)*S\n",
    "    return E"
   ]
  },
  {
   "cell_type": "code",
   "execution_count": null,
   "metadata": {},
   "outputs": [],
   "source": [
    "x0=0\n",
    "d=2\n",
    "n=100000\n",
    "E=[]\n",
    "alst=np.linspace(1.5,2.5,100)\n",
    "for a in alst:\n",
    "    x=metropolis(p1,x0,d,n,a)\n",
    "    E.append(E1(x,a))"
   ]
  },
  {
   "cell_type": "code",
   "execution_count": null,
   "metadata": {},
   "outputs": [],
   "source": [
    "import matplotlib.pyplot as plt\n",
    "import numpy as np\n",
    "\n",
    "#Energy\n",
    "\n",
    "plt.plot(alst,E)\n",
    "plt.title(r'$\\psi_1(x)=A(a^2-x^2)$')\n",
    "plt.xlabel('a')\n",
    "plt.ylabel('E')\n",
    "plt.show()"
   ]
  },
  {
   "cell_type": "code",
   "execution_count": null,
   "metadata": {},
   "outputs": [],
   "source": [
    "x0=0\n",
    "d=5\n",
    "n=10000\n",
    "E=[]\n",
    "blst=np.linspace(0.2,0.8,60)\n",
    "for b in blst:\n",
    "    x=metropolis(p2,x0,d,n,b)\n",
    "    E.append(E2(x,b))"
   ]
  },
  {
   "cell_type": "code",
   "execution_count": null,
   "metadata": {},
   "outputs": [],
   "source": [
    "import matplotlib.pyplot as plt\n",
    "import numpy as np\n",
    "\n",
    "#Energy\n",
    "\n",
    "plt.plot(blst,E)\n",
    "plt.title(r'$\\psi_2(x)=Be^{-bx^2}$')\n",
    "plt.xlabel('b')\n",
    "plt.ylabel('E')\n",
    "plt.show()"
   ]
  },
  {
   "cell_type": "markdown",
   "metadata": {},
   "source": [
    "(c) Instead of solving the problem by minimizing < EL >, solve it minimizing the variance:"
   ]
  },
  {
   "cell_type": "code",
   "execution_count": 4,
   "metadata": {},
   "outputs": [],
   "source": [
    "#Variance of first wavefunction\n",
    "def V1(x,a):\n",
    "    ES  = sum(1/(a**2-x**2)**(2)+ x**2/(a**2-x**2) + 0.25*x**4)/n\n",
    "    V   =  ES - E1(x,a)**2\n",
    "    return V\n",
    "\n",
    "#Variance of second wavefunction\n",
    "def V2(x,b):\n",
    "    S=sum(np.array(x)**2)/n\n",
    "    S2=sum(np.array(x)**4)/n\n",
    "    V= b**2 + (b-4*b**3)*S + (0.5-2*b**2)**2*S2 - E2(x,b)**2\n",
    "    return V"
   ]
  },
  {
   "cell_type": "code",
   "execution_count": 5,
   "metadata": {},
   "outputs": [],
   "source": [
    "x0=0\n",
    "d=2\n",
    "n=100000\n",
    "V=[]\n",
    "alst=np.linspace(1.3,2.1,80)\n",
    "for a in alst:\n",
    "    x=metropolis(p1,x0,d,n,a)\n",
    "    V.append(V1(x,a))"
   ]
  },
  {
   "cell_type": "code",
   "execution_count": 6,
   "metadata": {},
   "outputs": [
    {
     "data": {
      "image/png": "[encoded data removed]",
      "text/plain": [
       "<Figure size 432x288 with 1 Axes>"
      ]
     },
     "metadata": {
      "needs_background": "light"
     },
     "output_type": "display_data"
    }
   ],
   "source": [
    "import matplotlib.pyplot as plt\n",
    "import numpy as np\n",
    "\n",
    "#Variance\n",
    "\n",
    "plt.plot(alst,V)\n",
    "plt.title(r'$\\psi_1(x)=A(a^2-x^2)$')\n",
    "plt.xlabel('a')\n",
    "plt.ylabel('V')\n",
    "plt.show()"
   ]
  },
  {
   "cell_type": "code",
   "execution_count": null,
   "metadata": {},
   "outputs": [],
   "source": [
    "x0=0\n",
    "d=5\n",
    "n=10000\n",
    "V=[]\n",
    "blst=np.linspace(0.2,0.8,60)\n",
    "for b in blst:\n",
    "    x=metropolis(p2,x0,d,n,b)\n",
    "    V.append(V2(x,b))"
   ]
  },
  {
   "cell_type": "code",
   "execution_count": null,
   "metadata": {},
   "outputs": [],
   "source": [
    "import matplotlib.pyplot as plt\n",
    "import numpy as np\n",
    "\n",
    "#Energy\n",
    "\n",
    "plt.plot(blst,V)\n",
    "plt.title(r'$\\psi_2(x)=Be^{-bx^2}$')\n",
    "plt.xlabel('b')\n",
    "plt.ylabel('V')\n",
    "plt.show()"
   ]
  },
  {
   "cell_type": "markdown",
   "metadata": {},
   "source": [
    "## 2. Anharmonic quantum oscillator 1D"
   ]
  },
  {
   "cell_type": "code",
   "execution_count": 7,
   "metadata": {},
   "outputs": [],
   "source": [
    "def V(x):\n",
    "    b=0.125\n",
    "    return 0.5*x**2+b*x**4"
   ]
  },
  {
   "cell_type": "code",
   "execution_count": 11,
   "metadata": {},
   "outputs": [
    {
     "data": {
      "image/png": "[encoded data removed]",
      "text/plain": [
       "<Figure size 432x288 with 1 Axes>"
      ]
     },
     "metadata": {
      "needs_background": "light"
     },
     "output_type": "display_data"
    }
   ],
   "source": [
    "import matplotlib.pyplot as plt\n",
    "import numpy as np\n",
    "\n",
    "#Variance\n",
    "x=np.linspace(-2,2,100)\n",
    "plt.plot(x,V(x),label=r'$V(x)=\\frac{x^2}{2}+\\frac{x^4}{8}$')\n",
    "plt.plot(x,0.5*x**2,label=r'$V(x)=\\frac{x^2}{2}$')\n",
    "\n",
    "plt.title('Potentials')\n",
    "plt.xlabel('x')\n",
    "plt.ylabel('V(x)')\n",
    "plt.legend()\n",
    "plt.show()"
   ]
  },
  {
   "cell_type": "code",
   "execution_count": 12,
   "metadata": {},
   "outputs": [],
   "source": [
    "#Energy of the perturbation\n",
    "def DE(x,b):\n",
    "    DE=sum(0.125*np.array(x)**4)/n\n",
    "    return DE"
   ]
  },
  {
   "cell_type": "code",
   "execution_count": 18,
   "metadata": {},
   "outputs": [],
   "source": [
    "x0=0\n",
    "d=5\n",
    "n=100000\n",
    "E=[]\n",
    "blst=np.linspace(0.4,0.7,60)\n",
    "for b in blst:\n",
    "    x=metropolis(p2,x0,d,n,b)\n",
    "    E.append(E2(x,b)+DE(x,b))"
   ]
  },
  {
   "cell_type": "code",
   "execution_count": 19,
   "metadata": {},
   "outputs": [
    {
     "data": {
      "image/png": "[encoded data removed]",
      "text/plain": [
       "<Figure size 432x288 with 1 Axes>"
      ]
     },
     "metadata": {
      "needs_background": "light"
     },
     "output_type": "display_data"
    }
   ],
   "source": [
    "import matplotlib.pyplot as plt\n",
    "import numpy as np\n",
    "\n",
    "#Energy\n",
    "\n",
    "plt.plot(blst,E)\n",
    "plt.title(r'$\\psi(x)=Be^{-bx^2}$')\n",
    "plt.xlabel('b')\n",
    "plt.ylabel(r'$E_0+\\Delta E$')\n",
    "plt.show()"
   ]
  },
  {
   "cell_type": "code",
   "execution_count": null,
   "metadata": {},
   "outputs": [],
   "source": []
  }
 ],
 "metadata": {
  "kernelspec": {
   "display_name": "Python 3 (ipykernel)",
   "language": "python",
   "name": "python3"
  },
  "language_info": {
   "codemirror_mode": {
    "name": "ipython",
    "version": 3
   },
   "file_extension": ".py",
   "mimetype": "text/x-python",
   "name": "python",
   "nbconvert_exporter": "python",
   "pygments_lexer": "ipython3",
   "version": "3.9.13"
  }
 },
 "nbformat": 4,
 "nbformat_minor": 4
}
